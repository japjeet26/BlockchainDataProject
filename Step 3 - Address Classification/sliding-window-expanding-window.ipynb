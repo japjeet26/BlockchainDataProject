{
 "cells": [
  {
   "cell_type": "markdown",
   "metadata": {},
   "source": [
    "# Batch Training Machine Learning"
   ]
  },
  {
   "cell_type": "code",
   "execution_count": 35,
   "metadata": {
    "_cell_guid": "b1076dfc-b9ad-4769-8c92-a6c4dae69d19",
    "_uuid": "8f2839f25d086af736a60e9eeb907d3b93b6e0e5",
    "execution": {
     "iopub.execute_input": "2021-12-16T00:53:30.162392Z",
     "iopub.status.busy": "2021-12-16T00:53:30.162144Z",
     "iopub.status.idle": "2021-12-16T00:53:30.177555Z",
     "shell.execute_reply": "2021-12-16T00:53:30.176978Z",
     "shell.execute_reply.started": "2021-12-16T00:53:30.162366Z"
    }
   },
   "outputs": [],
   "source": [
    "# This Python 3 environment comes with many helpful analytics libraries installed\n",
    "# It is defined by the kaggle/python Docker image: https://github.com/kaggle/docker-python\n",
    "# For example, here's several helpful packages to load\n",
    "\n",
    "import numpy as np # linear algebra\n",
    "import pandas as pd # data processing, CSV file I/O (e.g. pd.read_csv)\n",
    "\n",
    "# Input data files are available in the read-only \"../input/\" directory\n",
    "# For example, running this (by clicking run or pressing Shift+Enter) will list all files under the input directory\n",
    "\n",
    "import os\n",
    "for dirname, _, filenames in os.walk('/kaggle/input'):\n",
    "    for filename in filenames:\n",
    "        print(os.path.join(dirname, filename))\n",
    "\n",
    "# You can write up to 20GB to the current directory (/kaggle/working/) that gets preserved as output when you create a version using \"Save & Run All\" \n",
    "# You can also write temporary files to /kaggle/temp/, but they won't be saved outside of the current session"
   ]
  },
  {
   "cell_type": "code",
   "execution_count": 36,
   "metadata": {
    "execution": {
     "iopub.execute_input": "2021-12-16T00:53:30.719479Z",
     "iopub.status.busy": "2021-12-16T00:53:30.718882Z",
     "iopub.status.idle": "2021-12-16T00:53:31.159280Z",
     "shell.execute_reply": "2021-12-16T00:53:31.158263Z",
     "shell.execute_reply.started": "2021-12-16T00:53:30.719443Z"
    }
   },
   "outputs": [],
   "source": [
    "df=pd.read_csv('/kaggle/input/features-2015/features_2015_new.csv')"
   ]
  },
  {
   "cell_type": "code",
   "execution_count": 37,
   "metadata": {
    "execution": {
     "iopub.execute_input": "2021-12-16T00:53:31.161416Z",
     "iopub.status.busy": "2021-12-16T00:53:31.160915Z",
     "iopub.status.idle": "2021-12-16T00:53:31.167374Z",
     "shell.execute_reply": "2021-12-16T00:53:31.166514Z",
     "shell.execute_reply.started": "2021-12-16T00:53:31.161381Z"
    }
   },
   "outputs": [],
   "source": [
    "## Code for converting the ransomware address to label 1 and white address 0\n",
    "\n",
    "'''\n",
    "for i, row in df.iterrows():\n",
    "    if row['label']!='white':\n",
    "        df.at[i, 'label'] = '1'\n",
    "    else:\n",
    "        df.at[i, 'label'] = '0'\n",
    "        \n",
    "'''"
   ]
  },
  {
   "cell_type": "markdown",
   "metadata": {},
   "source": [
    "# Feature Selection for Machine Learning Model"
   ]
  },
  {
   "cell_type": "code",
   "execution_count": 38,
   "metadata": {
    "execution": {
     "iopub.execute_input": "2021-12-16T00:53:32.096267Z",
     "iopub.status.busy": "2021-12-16T00:53:32.095928Z",
     "iopub.status.idle": "2021-12-16T00:53:32.119736Z",
     "shell.execute_reply": "2021-12-16T00:53:32.118734Z",
     "shell.execute_reply.started": "2021-12-16T00:53:32.096232Z"
    }
   },
   "outputs": [],
   "source": [
    "df"
   ]
  },
  {
   "cell_type": "code",
   "execution_count": 39,
   "metadata": {
    "execution": {
     "iopub.execute_input": "2021-12-16T00:53:32.582047Z",
     "iopub.status.busy": "2021-12-16T00:53:32.581726Z",
     "iopub.status.idle": "2021-12-16T00:53:32.592021Z",
     "shell.execute_reply": "2021-12-16T00:53:32.590645Z",
     "shell.execute_reply.started": "2021-12-16T00:53:32.582012Z"
    }
   },
   "outputs": [],
   "source": [
    "df=df.drop(['address','day','label'],axis=1)"
   ]
  },
  {
   "cell_type": "markdown",
   "metadata": {},
   "source": [
    "## Independent Variables"
   ]
  },
  {
   "cell_type": "code",
   "execution_count": 40,
   "metadata": {
    "execution": {
     "iopub.execute_input": "2021-12-16T00:53:33.407840Z",
     "iopub.status.busy": "2021-12-16T00:53:33.407576Z",
     "iopub.status.idle": "2021-12-16T00:53:33.418269Z",
     "shell.execute_reply": "2021-12-16T00:53:33.417306Z",
     "shell.execute_reply.started": "2021-12-16T00:53:33.407811Z"
    }
   },
   "outputs": [],
   "source": [
    "X = df.iloc[:,:-1] #returns a numpy array"
   ]
  },
  {
   "cell_type": "code",
   "execution_count": 41,
   "metadata": {
    "execution": {
     "iopub.execute_input": "2021-12-16T00:53:33.783520Z",
     "iopub.status.busy": "2021-12-16T00:53:33.783192Z",
     "iopub.status.idle": "2021-12-16T00:53:33.799745Z",
     "shell.execute_reply": "2021-12-16T00:53:33.799155Z",
     "shell.execute_reply.started": "2021-12-16T00:53:33.783488Z"
    }
   },
   "outputs": [],
   "source": [
    "X"
   ]
  },
  {
   "cell_type": "markdown",
   "metadata": {},
   "source": [
    "## Dependent Variables"
   ]
  },
  {
   "cell_type": "code",
   "execution_count": 42,
   "metadata": {
    "execution": {
     "iopub.execute_input": "2021-12-16T00:53:34.480775Z",
     "iopub.status.busy": "2021-12-16T00:53:34.480470Z",
     "iopub.status.idle": "2021-12-16T00:53:34.486333Z",
     "shell.execute_reply": "2021-12-16T00:53:34.485474Z",
     "shell.execute_reply.started": "2021-12-16T00:53:34.480746Z"
    }
   },
   "outputs": [],
   "source": [
    "y=df['label_final']"
   ]
  },
  {
   "cell_type": "code",
   "execution_count": 43,
   "metadata": {
    "execution": {
     "iopub.execute_input": "2021-12-16T00:53:34.797654Z",
     "iopub.status.busy": "2021-12-16T00:53:34.797331Z",
     "iopub.status.idle": "2021-12-16T00:53:34.806819Z",
     "shell.execute_reply": "2021-12-16T00:53:34.806239Z",
     "shell.execute_reply.started": "2021-12-16T00:53:34.797620Z"
    }
   },
   "outputs": [],
   "source": [
    "y.value_counts()"
   ]
  },
  {
   "cell_type": "code",
   "execution_count": 44,
   "metadata": {
    "execution": {
     "iopub.execute_input": "2021-12-16T00:53:35.271774Z",
     "iopub.status.busy": "2021-12-16T00:53:35.270833Z",
     "iopub.status.idle": "2021-12-16T00:53:35.275883Z",
     "shell.execute_reply": "2021-12-16T00:53:35.275050Z",
     "shell.execute_reply.started": "2021-12-16T00:53:35.271724Z"
    }
   },
   "outputs": [],
   "source": [
    "## As we can see that the ratio of white address to ransomware address is approximately 50:1, So thats a total imbalanced dataset.\n",
    "## To solve the problem we have done oversampling in the dataset to increase the dataset by increasing the records that contains ransomware dataset"
   ]
  },
  {
   "cell_type": "markdown",
   "metadata": {},
   "source": []
  },
  {
   "cell_type": "markdown",
   "metadata": {},
   "source": [
    "## OverSampling the Dataset"
   ]
  },
  {
   "cell_type": "code",
   "execution_count": 45,
   "metadata": {
    "execution": {
     "iopub.execute_input": "2021-12-16T00:53:36.313940Z",
     "iopub.status.busy": "2021-12-16T00:53:36.313205Z",
     "iopub.status.idle": "2021-12-16T00:53:36.575594Z",
     "shell.execute_reply": "2021-12-16T00:53:36.574576Z",
     "shell.execute_reply.started": "2021-12-16T00:53:36.313890Z"
    }
   },
   "outputs": [],
   "source": [
    "from imblearn.over_sampling import RandomOverSampler\n",
    "from collections import Counter\n",
    "# instantiating the random oversampler \n",
    "ros = RandomOverSampler()\n",
    "# resampling X, y\n",
    "X, y = ros.fit_resample(X, y)\n",
    "\n",
    "# new class distribution \n",
    "print(Counter(y))"
   ]
  },
  {
   "cell_type": "markdown",
   "metadata": {},
   "source": [
    "## Normalizing the Dataset"
   ]
  },
  {
   "cell_type": "code",
   "execution_count": 46,
   "metadata": {
    "execution": {
     "iopub.execute_input": "2021-12-16T00:53:37.234787Z",
     "iopub.status.busy": "2021-12-16T00:53:37.234504Z",
     "iopub.status.idle": "2021-12-16T00:53:37.287335Z",
     "shell.execute_reply": "2021-12-16T00:53:37.286513Z",
     "shell.execute_reply.started": "2021-12-16T00:53:37.234755Z"
    }
   },
   "outputs": [],
   "source": [
    "from sklearn import preprocessing\n",
    "min_max_scaler = preprocessing.MinMaxScaler()\n",
    "x_scaled = min_max_scaler.fit_transform(X)\n",
    "X=x_scaled"
   ]
  },
  {
   "cell_type": "markdown",
   "metadata": {},
   "source": [
    "## Splitting the Dataset into train and test"
   ]
  },
  {
   "cell_type": "code",
   "execution_count": 47,
   "metadata": {
    "execution": {
     "iopub.execute_input": "2021-12-16T00:53:37.878782Z",
     "iopub.status.busy": "2021-12-16T00:53:37.878427Z",
     "iopub.status.idle": "2021-12-16T00:53:37.944936Z",
     "shell.execute_reply": "2021-12-16T00:53:37.944148Z",
     "shell.execute_reply.started": "2021-12-16T00:53:37.878734Z"
    }
   },
   "outputs": [],
   "source": [
    "from sklearn.model_selection import train_test_split\n",
    "X_train,X_test,y_train,y_test = train_test_split(X,y,test_size=0.2)"
   ]
  },
  {
   "cell_type": "markdown",
   "metadata": {},
   "source": [
    "## XG Boost CLassifier"
   ]
  },
  {
   "cell_type": "code",
   "execution_count": 48,
   "metadata": {
    "execution": {
     "iopub.execute_input": "2021-12-16T00:53:38.482782Z",
     "iopub.status.busy": "2021-12-16T00:53:38.481879Z",
     "iopub.status.idle": "2021-12-16T00:53:50.636215Z",
     "shell.execute_reply": "2021-12-16T00:53:50.635471Z",
     "shell.execute_reply.started": "2021-12-16T00:53:38.482724Z"
    }
   },
   "outputs": [],
   "source": [
    "import xgboost as xgb\n",
    "model = xgb.XGBClassifier()\n",
    "model.fit(X_train, y_train)"
   ]
  },
  {
   "cell_type": "code",
   "execution_count": 49,
   "metadata": {
    "execution": {
     "iopub.execute_input": "2021-12-16T00:53:50.638926Z",
     "iopub.status.busy": "2021-12-16T00:53:50.638580Z",
     "iopub.status.idle": "2021-12-16T00:53:50.735643Z",
     "shell.execute_reply": "2021-12-16T00:53:50.734853Z",
     "shell.execute_reply.started": "2021-12-16T00:53:50.638880Z"
    }
   },
   "outputs": [],
   "source": [
    "# make predictions for test data\n",
    "y_pred = model.predict(X_test)"
   ]
  },
  {
   "cell_type": "markdown",
   "metadata": {},
   "source": [
    "## Accuracy Score`"
   ]
  },
  {
   "cell_type": "code",
   "execution_count": 50,
   "metadata": {
    "execution": {
     "iopub.execute_input": "2021-12-16T00:53:50.737359Z",
     "iopub.status.busy": "2021-12-16T00:53:50.736901Z",
     "iopub.status.idle": "2021-12-16T00:53:50.752537Z",
     "shell.execute_reply": "2021-12-16T00:53:50.751645Z",
     "shell.execute_reply.started": "2021-12-16T00:53:50.737309Z"
    }
   },
   "outputs": [],
   "source": [
    "from sklearn.metrics import accuracy_score\n",
    "# evaluate predictions\n",
    "accuracy = accuracy_score(y_test, y_pred)\n",
    "print(\"Accuracy: %.2f%%\" % (accuracy * 100.0))"
   ]
  },
  {
   "cell_type": "markdown",
   "metadata": {},
   "source": [
    "## Confusion Matrix"
   ]
  },
  {
   "cell_type": "code",
   "execution_count": 51,
   "metadata": {
    "execution": {
     "iopub.execute_input": "2021-12-16T00:53:50.755956Z",
     "iopub.status.busy": "2021-12-16T00:53:50.755728Z",
     "iopub.status.idle": "2021-12-16T00:53:50.895880Z",
     "shell.execute_reply": "2021-12-16T00:53:50.895041Z",
     "shell.execute_reply.started": "2021-12-16T00:53:50.755931Z"
    }
   },
   "outputs": [],
   "source": [
    "from sklearn.metrics import confusion_matrix\n",
    "confusion_matrix(y_test, y_pred)"
   ]
  },
  {
   "cell_type": "markdown",
   "metadata": {},
   "source": [
    "## Precision"
   ]
  },
  {
   "cell_type": "code",
   "execution_count": 52,
   "metadata": {
    "execution": {
     "iopub.execute_input": "2021-12-16T00:53:50.897183Z",
     "iopub.status.busy": "2021-12-16T00:53:50.896948Z",
     "iopub.status.idle": "2021-12-16T00:53:50.935915Z",
     "shell.execute_reply": "2021-12-16T00:53:50.935025Z",
     "shell.execute_reply.started": "2021-12-16T00:53:50.897156Z"
    }
   },
   "outputs": [],
   "source": [
    "from sklearn.metrics import precision_score\n",
    "precision_score(y_test, y_pred, average='macro')"
   ]
  },
  {
   "cell_type": "markdown",
   "metadata": {},
   "source": [
    "## Recall"
   ]
  },
  {
   "cell_type": "code",
   "execution_count": 53,
   "metadata": {
    "execution": {
     "iopub.execute_input": "2021-12-16T00:53:50.938007Z",
     "iopub.status.busy": "2021-12-16T00:53:50.937314Z",
     "iopub.status.idle": "2021-12-16T00:53:50.978185Z",
     "shell.execute_reply": "2021-12-16T00:53:50.977192Z",
     "shell.execute_reply.started": "2021-12-16T00:53:50.937948Z"
    }
   },
   "outputs": [],
   "source": [
    "from sklearn.metrics import precision_recall_fscore_support\n",
    "precision_recall_fscore_support(y_test,y_pred)"
   ]
  },
  {
   "cell_type": "markdown",
   "metadata": {},
   "source": [
    "## Logistic Regression"
   ]
  },
  {
   "cell_type": "code",
   "execution_count": 54,
   "metadata": {
    "execution": {
     "iopub.execute_input": "2021-12-16T00:53:50.979809Z",
     "iopub.status.busy": "2021-12-16T00:53:50.979453Z",
     "iopub.status.idle": "2021-12-16T00:53:50.983526Z",
     "shell.execute_reply": "2021-12-16T00:53:50.982999Z",
     "shell.execute_reply.started": "2021-12-16T00:53:50.979781Z"
    }
   },
   "outputs": [],
   "source": [
    "from sklearn.linear_model import LogisticRegression"
   ]
  },
  {
   "cell_type": "code",
   "execution_count": 55,
   "metadata": {
    "execution": {
     "iopub.execute_input": "2021-12-16T00:53:50.984893Z",
     "iopub.status.busy": "2021-12-16T00:53:50.984349Z",
     "iopub.status.idle": "2021-12-16T00:53:51.928697Z",
     "shell.execute_reply": "2021-12-16T00:53:51.927746Z",
     "shell.execute_reply.started": "2021-12-16T00:53:50.984865Z"
    }
   },
   "outputs": [],
   "source": [
    "model = LogisticRegression()\n",
    "model = model.fit(X_train,y_train)"
   ]
  },
  {
   "cell_type": "code",
   "execution_count": 56,
   "metadata": {
    "execution": {
     "iopub.execute_input": "2021-12-16T00:53:51.931049Z",
     "iopub.status.busy": "2021-12-16T00:53:51.930363Z",
     "iopub.status.idle": "2021-12-16T00:53:51.942077Z",
     "shell.execute_reply": "2021-12-16T00:53:51.941044Z",
     "shell.execute_reply.started": "2021-12-16T00:53:51.930997Z"
    }
   },
   "outputs": [],
   "source": [
    "# make predictions for test data\n",
    "y_pred = model.predict(X_test)"
   ]
  },
  {
   "cell_type": "code",
   "execution_count": 57,
   "metadata": {
    "execution": {
     "iopub.execute_input": "2021-12-16T00:53:51.952600Z",
     "iopub.status.busy": "2021-12-16T00:53:51.949791Z",
     "iopub.status.idle": "2021-12-16T00:53:51.978783Z",
     "shell.execute_reply": "2021-12-16T00:53:51.977892Z",
     "shell.execute_reply.started": "2021-12-16T00:53:51.952541Z"
    }
   },
   "outputs": [],
   "source": [
    "from sklearn.metrics import accuracy_score\n",
    "# evaluate predictions\n",
    "accuracy = accuracy_score(y_test, y_pred)\n",
    "print(\"Accuracy: %.2f%%\" % (accuracy * 100.0))"
   ]
  },
  {
   "cell_type": "code",
   "execution_count": 58,
   "metadata": {
    "execution": {
     "iopub.execute_input": "2021-12-16T00:53:51.986704Z",
     "iopub.status.busy": "2021-12-16T00:53:51.984066Z",
     "iopub.status.idle": "2021-12-16T00:53:52.152030Z",
     "shell.execute_reply": "2021-12-16T00:53:52.151333Z",
     "shell.execute_reply.started": "2021-12-16T00:53:51.986649Z"
    }
   },
   "outputs": [],
   "source": [
    "from sklearn.metrics import confusion_matrix\n",
    "confusion_matrix(y_test, y_pred)"
   ]
  },
  {
   "cell_type": "code",
   "execution_count": 59,
   "metadata": {
    "execution": {
     "iopub.execute_input": "2021-12-16T00:53:52.153246Z",
     "iopub.status.busy": "2021-12-16T00:53:52.152920Z",
     "iopub.status.idle": "2021-12-16T00:53:52.191958Z",
     "shell.execute_reply": "2021-12-16T00:53:52.191199Z",
     "shell.execute_reply.started": "2021-12-16T00:53:52.153219Z"
    }
   },
   "outputs": [],
   "source": [
    "from sklearn.metrics import precision_score\n",
    "precision_score(y_test, y_pred, average='macro')"
   ]
  },
  {
   "cell_type": "code",
   "execution_count": 60,
   "metadata": {
    "execution": {
     "iopub.execute_input": "2021-12-16T00:53:52.193134Z",
     "iopub.status.busy": "2021-12-16T00:53:52.192918Z",
     "iopub.status.idle": "2021-12-16T00:53:52.231992Z",
     "shell.execute_reply": "2021-12-16T00:53:52.231103Z",
     "shell.execute_reply.started": "2021-12-16T00:53:52.193109Z"
    }
   },
   "outputs": [],
   "source": [
    "from sklearn.metrics import precision_recall_fscore_support\n",
    "precision_recall_fscore_support(y_test,y_pred)"
   ]
  },
  {
   "cell_type": "markdown",
   "metadata": {},
   "source": [
    "## Random Forest"
   ]
  },
  {
   "cell_type": "code",
   "execution_count": 61,
   "metadata": {
    "execution": {
     "iopub.execute_input": "2021-12-16T00:53:52.233297Z",
     "iopub.status.busy": "2021-12-16T00:53:52.233075Z",
     "iopub.status.idle": "2021-12-16T00:54:22.004262Z",
     "shell.execute_reply": "2021-12-16T00:54:22.003393Z",
     "shell.execute_reply.started": "2021-12-16T00:53:52.233272Z"
    }
   },
   "outputs": [],
   "source": [
    "from sklearn.ensemble import RandomForestClassifier\n",
    "model = RandomForestClassifier().fit(X_train, y_train)"
   ]
  },
  {
   "cell_type": "code",
   "execution_count": 62,
   "metadata": {
    "execution": {
     "iopub.execute_input": "2021-12-16T00:54:22.005784Z",
     "iopub.status.busy": "2021-12-16T00:54:22.005508Z",
     "iopub.status.idle": "2021-12-16T00:54:23.167371Z",
     "shell.execute_reply": "2021-12-16T00:54:23.166285Z",
     "shell.execute_reply.started": "2021-12-16T00:54:22.005746Z"
    }
   },
   "outputs": [],
   "source": [
    "# make predictions for test data\n",
    "y_pred = model.predict(X_test)"
   ]
  },
  {
   "cell_type": "code",
   "execution_count": 63,
   "metadata": {
    "execution": {
     "iopub.execute_input": "2021-12-16T00:54:23.169020Z",
     "iopub.status.busy": "2021-12-16T00:54:23.168682Z",
     "iopub.status.idle": "2021-12-16T00:54:23.184299Z",
     "shell.execute_reply": "2021-12-16T00:54:23.183543Z",
     "shell.execute_reply.started": "2021-12-16T00:54:23.168976Z"
    }
   },
   "outputs": [],
   "source": [
    "from sklearn.metrics import accuracy_score\n",
    "# evaluate predictions\n",
    "accuracy = accuracy_score(y_test, y_pred)\n",
    "print(\"Accuracy: %.2f%%\" % (accuracy * 100.0))"
   ]
  },
  {
   "cell_type": "code",
   "execution_count": 64,
   "metadata": {
    "execution": {
     "iopub.execute_input": "2021-12-16T00:54:23.186478Z",
     "iopub.status.busy": "2021-12-16T00:54:23.186172Z",
     "iopub.status.idle": "2021-12-16T00:54:23.318225Z",
     "shell.execute_reply": "2021-12-16T00:54:23.317205Z",
     "shell.execute_reply.started": "2021-12-16T00:54:23.186435Z"
    }
   },
   "outputs": [],
   "source": [
    "from sklearn.metrics import confusion_matrix\n",
    "confusion_matrix(y_test, y_pred)"
   ]
  },
  {
   "cell_type": "code",
   "execution_count": 65,
   "metadata": {
    "execution": {
     "iopub.execute_input": "2021-12-16T00:54:23.319977Z",
     "iopub.status.busy": "2021-12-16T00:54:23.319706Z",
     "iopub.status.idle": "2021-12-16T00:54:23.358825Z",
     "shell.execute_reply": "2021-12-16T00:54:23.358021Z",
     "shell.execute_reply.started": "2021-12-16T00:54:23.319932Z"
    }
   },
   "outputs": [],
   "source": [
    "from sklearn.metrics import precision_score\n",
    "precision_score(y_test, y_pred, average='macro')"
   ]
  },
  {
   "cell_type": "code",
   "execution_count": 66,
   "metadata": {
    "execution": {
     "iopub.execute_input": "2021-12-16T00:54:23.360161Z",
     "iopub.status.busy": "2021-12-16T00:54:23.359926Z",
     "iopub.status.idle": "2021-12-16T00:54:23.401180Z",
     "shell.execute_reply": "2021-12-16T00:54:23.400341Z",
     "shell.execute_reply.started": "2021-12-16T00:54:23.360135Z"
    }
   },
   "outputs": [],
   "source": [
    "from sklearn.metrics import precision_recall_fscore_support\n",
    "precision_recall_fscore_support(y_test,y_pred)"
   ]
  },
  {
   "cell_type": "markdown",
   "metadata": {},
   "source": [
    "## Sliding Window"
   ]
  },
  {
   "cell_type": "code",
   "execution_count": 82,
   "metadata": {
    "execution": {
     "iopub.execute_input": "2021-12-16T04:36:23.852437Z",
     "iopub.status.busy": "2021-12-16T04:36:23.852068Z",
     "iopub.status.idle": "2021-12-16T04:36:23.857097Z",
     "shell.execute_reply": "2021-12-16T04:36:23.856049Z",
     "shell.execute_reply.started": "2021-12-16T04:36:23.852396Z"
    }
   },
   "outputs": [],
   "source": [
    "import pandas as pd\n",
    "from sklearn.ensemble import RandomForestClassifier\n",
    "from sklearn import preprocessing\n",
    "import warnings\n",
    "warnings.filterwarnings('ignore')"
   ]
  },
  {
   "cell_type": "code",
   "execution_count": 83,
   "metadata": {
    "execution": {
     "iopub.execute_input": "2021-12-16T04:36:24.916719Z",
     "iopub.status.busy": "2021-12-16T04:36:24.916431Z",
     "iopub.status.idle": "2021-12-16T04:36:25.223769Z",
     "shell.execute_reply": "2021-12-16T04:36:25.222863Z",
     "shell.execute_reply.started": "2021-12-16T04:36:24.916690Z"
    }
   },
   "outputs": [],
   "source": [
    "df=pd.read_csv('/kaggle/input/features-2015/features_2015_new.csv')"
   ]
  },
  {
   "cell_type": "code",
   "execution_count": 61,
   "metadata": {
    "execution": {
     "iopub.execute_input": "2021-12-16T04:22:57.014776Z",
     "iopub.status.busy": "2021-12-16T04:22:57.014070Z",
     "iopub.status.idle": "2021-12-16T04:22:57.051913Z",
     "shell.execute_reply": "2021-12-16T04:22:57.051088Z",
     "shell.execute_reply.started": "2021-12-16T04:22:57.014730Z"
    }
   },
   "outputs": [],
   "source": [
    "df=df.sort_values(by=\"day\", axis=0, ascending=True, inplace=False)\n",
    "df.reset_index(drop=True, inplace=True)\n",
    "df1=df.copy()"
   ]
  },
  {
   "cell_type": "code",
   "execution_count": 85,
   "metadata": {
    "execution": {
     "iopub.execute_input": "2021-12-16T04:37:01.704443Z",
     "iopub.status.busy": "2021-12-16T04:37:01.704164Z",
     "iopub.status.idle": "2021-12-16T04:37:01.710358Z",
     "shell.execute_reply": "2021-12-16T04:37:01.709317Z",
     "shell.execute_reply.started": "2021-12-16T04:37:01.704413Z"
    }
   },
   "outputs": [],
   "source": [
    "day_list=df1['day'].unique().tolist()"
   ]
  },
  {
   "cell_type": "code",
   "execution_count": 64,
   "metadata": {
    "execution": {
     "iopub.execute_input": "2021-12-16T04:22:58.890473Z",
     "iopub.status.busy": "2021-12-16T04:22:58.889732Z",
     "iopub.status.idle": "2021-12-16T04:22:58.895690Z",
     "shell.execute_reply": "2021-12-16T04:22:58.894848Z",
     "shell.execute_reply.started": "2021-12-16T04:22:58.890434Z"
    }
   },
   "outputs": [],
   "source": [
    "day_list[:4]"
   ]
  },
  {
   "cell_type": "code",
   "execution_count": 87,
   "metadata": {
    "execution": {
     "iopub.execute_input": "2021-12-16T04:38:18.718735Z",
     "iopub.status.busy": "2021-12-16T04:38:18.718410Z",
     "iopub.status.idle": "2021-12-16T04:38:18.726222Z",
     "shell.execute_reply": "2021-12-16T04:38:18.725312Z",
     "shell.execute_reply.started": "2021-12-16T04:38:18.718705Z"
    }
   },
   "outputs": [],
   "source": [
    "df_new=df1[df1['day'].isin(day_list[:4])]"
   ]
  },
  {
   "cell_type": "code",
   "execution_count": 88,
   "metadata": {
    "execution": {
     "iopub.execute_input": "2021-12-16T04:38:24.063885Z",
     "iopub.status.busy": "2021-12-16T04:38:24.063523Z",
     "iopub.status.idle": "2021-12-16T04:38:24.083649Z",
     "shell.execute_reply": "2021-12-16T04:38:24.082410Z",
     "shell.execute_reply.started": "2021-12-16T04:38:24.063849Z"
    }
   },
   "outputs": [],
   "source": [
    "df_new\n",
    "#df_new contains data with first 4 days"
   ]
  },
  {
   "cell_type": "code",
   "execution_count": 66,
   "metadata": {
    "execution": {
     "iopub.execute_input": "2021-12-16T04:22:59.977047Z",
     "iopub.status.busy": "2021-12-16T04:22:59.976366Z",
     "iopub.status.idle": "2021-12-16T04:22:59.981398Z",
     "shell.execute_reply": "2021-12-16T04:22:59.980311Z",
     "shell.execute_reply.started": "2021-12-16T04:22:59.977008Z"
    }
   },
   "outputs": [],
   "source": [
    "del day_list[:4]\n",
    "# We delete the first 4 unique days from the list"
   ]
  },
  {
   "cell_type": "code",
   "execution_count": 69,
   "metadata": {
    "execution": {
     "iopub.execute_input": "2021-12-16T04:23:03.510975Z",
     "iopub.status.busy": "2021-12-16T04:23:03.510526Z",
     "iopub.status.idle": "2021-12-16T04:24:07.755378Z",
     "shell.execute_reply": "2021-12-16T04:24:07.754544Z",
     "shell.execute_reply.started": "2021-12-16T04:23:03.510944Z"
    }
   },
   "outputs": [],
   "source": [
    "for i in day_list:\n",
    "    f_list=df_new['day'].unique().tolist()\n",
    "    #f_list is list that contains unique values of days in the dataframe df_new\n",
    "    last_n=f_list[-4:]\n",
    "    #last_n contains window size of 4\n",
    "    df_new1=df_new[df_new['day'].isin(last_n)]\n",
    "    #df_new1 contains datframe with the rows that contains last 4 days\n",
    "    X=df_new1[['sum in-degree','sum out-degree (BTCH)','sum in-amount','sum out-amount (BTCH)','count (BTCH)','weight (BTCH)']]\n",
    "    # X is the feture\n",
    "    y=df_new1['label_final']\n",
    "    # y is the label\n",
    "    model = RandomForestClassifier().fit(X,y)\n",
    "    # Training the model\n",
    "    predict_df=df1[df1['day']==i]\n",
    "    predict_df=predict_df[['sum in-degree','sum out-degree (BTCH)','sum in-amount','sum out-amount (BTCH)','count (BTCH)','weight (BTCH)']]\n",
    "    # predict_df contains features of the next day records\n",
    "    predict_labels=model.predict(predict_df)\n",
    "    # predict_labels is used to predict on the next day features\n",
    "    df_temp=df1[df1['day']==i]\n",
    "    # df_temp contains data with the next day records\n",
    "    df_temp.drop(['label_final'],axis=1)\n",
    "    # We drop the original label for the dataset\n",
    "    df_temp['label_final']=predict_labels\n",
    "    # We put the predicted labels with dataset\n",
    "    df_new=pd.concat([df_new,df_temp],axis=0,ignore_index=True)\n",
    "    # Appending the data by adding records for the next day that contains both features and labels"
   ]
  },
  {
   "cell_type": "markdown",
   "metadata": {},
   "source": [
    "## Accuracy"
   ]
  },
  {
   "cell_type": "code",
   "execution_count": 75,
   "metadata": {
    "execution": {
     "iopub.execute_input": "2021-12-16T04:27:00.295204Z",
     "iopub.status.busy": "2021-12-16T04:27:00.294634Z",
     "iopub.status.idle": "2021-12-16T04:27:00.315248Z",
     "shell.execute_reply": "2021-12-16T04:27:00.314342Z",
     "shell.execute_reply.started": "2021-12-16T04:27:00.295161Z"
    }
   },
   "outputs": [],
   "source": [
    "from sklearn.metrics import accuracy_score\n",
    "# evaluate predictions\n",
    "accuracy = accuracy_score(df['label_final'], df_new['label_final'])\n",
    "print(\"Accuracy: %.2f%%\" % (accuracy * 100.0))"
   ]
  },
  {
   "cell_type": "code",
   "execution_count": 76,
   "metadata": {
    "execution": {
     "iopub.execute_input": "2021-12-16T04:27:01.514751Z",
     "iopub.status.busy": "2021-12-16T04:27:01.514228Z",
     "iopub.status.idle": "2021-12-16T04:27:01.523848Z",
     "shell.execute_reply": "2021-12-16T04:27:01.523141Z",
     "shell.execute_reply.started": "2021-12-16T04:27:01.514711Z"
    }
   },
   "outputs": [],
   "source": [
    "df_new['label_final'].value_counts()"
   ]
  },
  {
   "cell_type": "markdown",
   "metadata": {},
   "source": [
    "## Precision"
   ]
  },
  {
   "cell_type": "code",
   "execution_count": 77,
   "metadata": {
    "execution": {
     "iopub.execute_input": "2021-12-16T04:27:02.963342Z",
     "iopub.status.busy": "2021-12-16T04:27:02.962799Z",
     "iopub.status.idle": "2021-12-16T04:27:03.029033Z",
     "shell.execute_reply": "2021-12-16T04:27:03.028097Z",
     "shell.execute_reply.started": "2021-12-16T04:27:02.963300Z"
    }
   },
   "outputs": [],
   "source": [
    "from sklearn.metrics import precision_score\n",
    "precision_score(df['label_final'], df_new['label_final'], average='macro')"
   ]
  },
  {
   "cell_type": "markdown",
   "metadata": {},
   "source": [
    "## Recall"
   ]
  },
  {
   "cell_type": "code",
   "execution_count": 79,
   "metadata": {
    "execution": {
     "iopub.execute_input": "2021-12-16T04:27:38.452281Z",
     "iopub.status.busy": "2021-12-16T04:27:38.451621Z",
     "iopub.status.idle": "2021-12-16T04:27:38.514103Z",
     "shell.execute_reply": "2021-12-16T04:27:38.513591Z",
     "shell.execute_reply.started": "2021-12-16T04:27:38.452247Z"
    }
   },
   "outputs": [],
   "source": [
    "from sklearn.metrics import precision_recall_fscore_support\n",
    "precision_recall_fscore_support(df['label_final'], df_new['label_final'], average='macro')"
   ]
  },
  {
   "cell_type": "markdown",
   "metadata": {},
   "source": [
    "## Confusion Matrix"
   ]
  },
  {
   "cell_type": "code",
   "execution_count": 81,
   "metadata": {
    "execution": {
     "iopub.execute_input": "2021-12-16T04:28:16.555536Z",
     "iopub.status.busy": "2021-12-16T04:28:16.554958Z",
     "iopub.status.idle": "2021-12-16T04:28:16.735513Z",
     "shell.execute_reply": "2021-12-16T04:28:16.734597Z",
     "shell.execute_reply.started": "2021-12-16T04:28:16.555497Z"
    }
   },
   "outputs": [],
   "source": [
    "from sklearn.metrics import confusion_matrix\n",
    "confusion_matrix(df['label_final'], df_new['label_final'])"
   ]
  },
  {
   "cell_type": "markdown",
   "metadata": {},
   "source": [
    "## Expanding Window"
   ]
  },
  {
   "cell_type": "code",
   "execution_count": 90,
   "metadata": {
    "execution": {
     "iopub.execute_input": "2021-12-16T05:14:23.094848Z",
     "iopub.status.busy": "2021-12-16T05:14:23.094370Z",
     "iopub.status.idle": "2021-12-16T05:14:23.099813Z",
     "shell.execute_reply": "2021-12-16T05:14:23.098998Z",
     "shell.execute_reply.started": "2021-12-16T05:14:23.094800Z"
    }
   },
   "outputs": [],
   "source": [
    "import pandas as pd\n",
    "from sklearn.ensemble import RandomForestClassifier\n",
    "from sklearn import preprocessing\n",
    "import warnings\n",
    "warnings.filterwarnings('ignore')"
   ]
  },
  {
   "cell_type": "code",
   "execution_count": 91,
   "metadata": {
    "execution": {
     "iopub.execute_input": "2021-12-16T05:14:24.607765Z",
     "iopub.status.busy": "2021-12-16T05:14:24.607193Z",
     "iopub.status.idle": "2021-12-16T05:14:24.932644Z",
     "shell.execute_reply": "2021-12-16T05:14:24.931994Z",
     "shell.execute_reply.started": "2021-12-16T05:14:24.607722Z"
    }
   },
   "outputs": [],
   "source": [
    "df=pd.read_csv('/kaggle/input/features-2015/features_2015_new.csv')\n",
    "df=df.sort_values(by=\"day\", axis=0, ascending=True, inplace=False)\n",
    "df.reset_index(drop=True, inplace=True)\n",
    "df1=df.copy()\n",
    "day_list=df1['day'].unique().tolist()\n",
    "day_list[:4]\n",
    "df_new=df1[df1['day'].isin(day_list[:4])]\n",
    "del day_list[:4]"
   ]
  },
  {
   "cell_type": "code",
   "execution_count": 92,
   "metadata": {
    "execution": {
     "iopub.execute_input": "2021-12-16T05:14:28.589133Z",
     "iopub.status.busy": "2021-12-16T05:14:28.588847Z",
     "iopub.status.idle": "2021-12-16T05:46:57.367404Z",
     "shell.execute_reply": "2021-12-16T05:46:57.366603Z",
     "shell.execute_reply.started": "2021-12-16T05:14:28.589104Z"
    }
   },
   "outputs": [],
   "source": [
    "for i in day_list:\n",
    "    X=df_new[['sum in-degree','sum out-degree (BTCH)','sum in-amount','sum out-amount (BTCH)','count (BTCH)','weight (BTCH)']]\n",
    "    y=df_new['label_final']\n",
    "    model = RandomForestClassifier().fit(X,y)\n",
    "    predict_df=df1[df1['day']==i]\n",
    "    predict_df=predict_df[['sum in-degree','sum out-degree (BTCH)','sum in-amount','sum out-amount (BTCH)','count (BTCH)','weight (BTCH)']]\n",
    "    predict_labels=model.predict(predict_df)\n",
    "    df_temp=df1[df1['day']==i]\n",
    "    df_temp.drop(['label_final'],axis=1)\n",
    "    df_temp['label_final']=predict_labels\n",
    "    df_new=pd.concat([df_new,df_temp],axis=0,ignore_index=True)\n",
    "    "
   ]
  },
  {
   "cell_type": "markdown",
   "metadata": {},
   "source": [
    "## Accuracy"
   ]
  },
  {
   "cell_type": "code",
   "execution_count": 93,
   "metadata": {
    "execution": {
     "iopub.execute_input": "2021-12-16T05:46:57.369743Z",
     "iopub.status.busy": "2021-12-16T05:46:57.369232Z",
     "iopub.status.idle": "2021-12-16T05:46:57.391446Z",
     "shell.execute_reply": "2021-12-16T05:46:57.390488Z",
     "shell.execute_reply.started": "2021-12-16T05:46:57.369695Z"
    }
   },
   "outputs": [],
   "source": [
    "from sklearn.metrics import accuracy_score\n",
    "# evaluate predictions\n",
    "accuracy = accuracy_score(df['label_final'], df_new['label_final'])\n",
    "print(\"Accuracy: %.2f%%\" % (accuracy * 100.0))"
   ]
  },
  {
   "cell_type": "markdown",
   "metadata": {},
   "source": [
    "## Precision"
   ]
  },
  {
   "cell_type": "code",
   "execution_count": 94,
   "metadata": {
    "execution": {
     "iopub.execute_input": "2021-12-16T05:48:13.043697Z",
     "iopub.status.busy": "2021-12-16T05:48:13.043355Z",
     "iopub.status.idle": "2021-12-16T05:48:13.108751Z",
     "shell.execute_reply": "2021-12-16T05:48:13.107803Z",
     "shell.execute_reply.started": "2021-12-16T05:48:13.043662Z"
    }
   },
   "outputs": [],
   "source": [
    "from sklearn.metrics import precision_score\n",
    "precision_score(df['label_final'], df_new['label_final'], average='macro')"
   ]
  },
  {
   "cell_type": "markdown",
   "metadata": {},
   "source": [
    "## Recall"
   ]
  },
  {
   "cell_type": "code",
   "execution_count": 96,
   "metadata": {
    "execution": {
     "iopub.execute_input": "2021-12-16T05:48:25.739137Z",
     "iopub.status.busy": "2021-12-16T05:48:25.738816Z",
     "iopub.status.idle": "2021-12-16T05:48:25.802884Z",
     "shell.execute_reply": "2021-12-16T05:48:25.801911Z",
     "shell.execute_reply.started": "2021-12-16T05:48:25.739106Z"
    }
   },
   "outputs": [],
   "source": [
    "from sklearn.metrics import precision_recall_fscore_support\n",
    "precision_recall_fscore_support(df['label_final'], df_new['label_final'], average='macro')"
   ]
  },
  {
   "cell_type": "markdown",
   "metadata": {},
   "source": [
    "## Confusion Matrix"
   ]
  },
  {
   "cell_type": "code",
   "execution_count": 95,
   "metadata": {
    "execution": {
     "iopub.execute_input": "2021-12-16T05:48:21.293430Z",
     "iopub.status.busy": "2021-12-16T05:48:21.292465Z",
     "iopub.status.idle": "2021-12-16T05:48:21.471417Z",
     "shell.execute_reply": "2021-12-16T05:48:21.470644Z",
     "shell.execute_reply.started": "2021-12-16T05:48:21.293384Z"
    }
   },
   "outputs": [],
   "source": [
    "from sklearn.metrics import confusion_matrix\n",
    "confusion_matrix(df['label_final'], df_new['label_final'])"
   ]
  },
  {
   "cell_type": "code",
   "execution_count": 97,
   "metadata": {
    "execution": {
     "iopub.execute_input": "2021-12-16T05:48:43.463359Z",
     "iopub.status.busy": "2021-12-16T05:48:43.462420Z",
     "iopub.status.idle": "2021-12-16T05:48:43.471757Z",
     "shell.execute_reply": "2021-12-16T05:48:43.470947Z",
     "shell.execute_reply.started": "2021-12-16T05:48:43.463317Z"
    }
   },
   "outputs": [],
   "source": [
    "df_new['label_final'].value_counts()"
   ]
  },
  {
   "cell_type": "code",
   "execution_count": null,
   "metadata": {},
   "outputs": [],
   "source": []
  }
 ],
 "metadata": {
  "kernelspec": {
   "display_name": "Python 3 (ipykernel)",
   "language": "python",
   "name": "python3"
  },
  "language_info": {
   "codemirror_mode": {
    "name": "ipython",
    "version": 3
   },
   "file_extension": ".py",
   "mimetype": "text/x-python",
   "name": "python",
   "nbconvert_exporter": "python",
   "pygments_lexer": "ipython3",
   "version": "3.9.5"
  }
 },
 "nbformat": 4,
 "nbformat_minor": 4
}
