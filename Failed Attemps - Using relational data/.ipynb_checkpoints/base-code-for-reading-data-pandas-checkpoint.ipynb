{
 "cells": [
  {
   "cell_type": "code",
   "execution_count": null,
   "metadata": {
    "_cell_guid": "b1076dfc-b9ad-4769-8c92-a6c4dae69d19",
    "_uuid": "8f2839f25d086af736a60e9eeb907d3b93b6e0e5",
    "execution": {
     "iopub.execute_input": "2021-10-17T23:28:53.595216Z",
     "iopub.status.busy": "2021-10-17T23:28:53.594652Z"
    }
   },
   "outputs": [],
   "source": [
    "## Ran on Kaggle\n",
    "## 12-16 GB of RAM (dynamically allocated on starting the session)\n",
    "\n",
    "import numpy as np # linear algebra\n",
    "import pandas as pd # data processing, CSV file I/O (e.g. pd.read_csv)\n",
    "import vaek # Specialized library to analyze large sized tabular data which exceeds the RAM size\n",
    "import os # To loop through files in directory\n",
    "\n",
    "## Initialize lists for storing data from input and output files\n",
    "input_files = []\n",
    "output_files = []\n",
    "\n",
    "\n",
    "for dirname, _, filenames in os.walk('/kaggle/input'):\n",
    "    for filename in filenames:\n",
    "        print(filename)\n",
    "        df = pd.read_csv(os.path.join(dirname, filename), header = None, sep = \"\\t\", names = range(1,50))\n",
    "        if(\"inp\" in filename):\n",
    "            input_files.append(df)\n",
    "        elif(\"outp\" in filename):\n",
    "            output_files.append(df)\n",
    "\n",
    "combined_input = pd.concat(input_files)\n",
    "combined_output = pd.concat(output_files)\n",
    "\n",
    "combined_input.to_pickle(\"/kaggle/working/all_inputs.zip\", compression = \"zip\")\n",
    "combined_output.to_pickle(r\"/kaggle/working/all_outputs.zip\", compression = \"zip\")\n",
    "# You can write up to 20GB to the current directory (/kaggle/working/) that gets preserved as output when you create a version using \"Save & Run All\" \n",
    "# You can also write temporary files to /kaggle/temp/, but they won't be saved outside of the current session"
   ]
  }
 ],
 "metadata": {
  "kernelspec": {
   "display_name": "Python 3 (ipykernel)",
   "language": "python",
   "name": "python3"
  },
  "language_info": {
   "codemirror_mode": {
    "name": "ipython",
    "version": 3
   },
   "file_extension": ".py",
   "mimetype": "text/x-python",
   "name": "python",
   "nbconvert_exporter": "python",
   "pygments_lexer": "ipython3",
   "version": "3.9.5"
  }
 },
 "nbformat": 4,
 "nbformat_minor": 4
}
