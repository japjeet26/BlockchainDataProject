{
 "cells": [
  {
   "cell_type": "code",
   "execution_count": 2,
   "id": "be85b23a-799c-4673-b32a-3ce30b938153",
   "metadata": {},
   "outputs": [],
   "source": [
    "import os\n",
    "import pickle\n",
    "import pandas as pd\n",
    "import numpy as np"
   ]
  },
  {
   "cell_type": "code",
   "execution_count": null,
   "id": "402256f0-27a7-489b-bf3c-e263699e4fc3",
   "metadata": {},
   "outputs": [],
   "source": [
    "## Attempt 2 \n",
    "## 2.1 - Generating Hash - ID (int) mapping. Files will be read line by line\n",
    "\n",
    "\n",
    "%%time\n",
    "list_tx_hashes = []\n",
    "path = r\"C:\\Users\\japje\\BDAProj\\Data2015\"\n",
    "for root, dir, files in os.walk(path):\n",
    "    for f in files:\n",
    "        with open(os.path.join(root,f), encoding = \"utf-8\") as f:\n",
    "            for line in f:\n",
    "                ## Split the row\n",
    "                cells = line.split(\"\\t\")\n",
    "\n",
    "                ## Add transaciton to Set\n",
    "                transaction_hash = cells[1]\n",
    "                list_tx_hashes.append(transaction_hash)\n",
    "                \n",
    "list_tx_hashes = list(set(list_tx_hashes))\n",
    "\n",
    "df_txn_mapping = pd.DataFrame(np.arange(len(list_tx_hashes)), index = list_tx_hashes)"
   ]
  },
  {
   "cell_type": "code",
   "execution_count": null,
   "id": "ccb8ecbb-4d15-44c9-bef4-ffe6f5432301",
   "metadata": {},
   "outputs": [],
   "source": []
  },
  {
   "cell_type": "code",
   "execution_count": 11,
   "id": "13fe9ab2-d28f-42ed-9cc2-957f9d4bb49c",
   "metadata": {},
   "outputs": [
    {
     "name": "stdout",
     "output_type": "stream",
     "text": [
      "Wall time: 2min 5s\n"
     ]
    }
   ],
   "source": [
    "\n",
    "%%time\n",
    "\n",
    "## Attempt 2 (approach 2)\n",
    "## 2.1 - Generating Hash - ID (int) mapping. Files will be read line by line\n",
    "list_tx_hashes = []\n",
    "path = r\"C:\\Users\\japje\\BDAProj\\Data2015\"\n",
    "for root, dir, files in os.walk(path):\n",
    "    for f in files:\n",
    "        with open(os.path.join(root,f), encoding = \"utf-8\") as f:\n",
    "            for line in f:\n",
    "                ## Split the row\n",
    "                cells = line.split(\"\\t\")\n",
    "\n",
    "                ## Add transaciton to Set\n",
    "                transaction_hash = cells[1]\n",
    "                list_tx_hashes.append(transaction_hash)\n",
    "                \n",
    "list_tx_hashes = list(set(list_tx_hashes))\n",
    "\n",
    "df_txn_mapping = dict(zip(list_tx_hashes, range(len(list_tx_hashes))))"
   ]
  },
  {
   "cell_type": "code",
   "execution_count": null,
   "id": "09721b37-ca4c-4e91-b856-73747f82a8f0",
   "metadata": {},
   "outputs": [],
   "source": [
    "## Saving this mapping as pickle (python native serialization format)\n",
    "df_txn_mapping.to_pickle(r\"C:\\Users\\japje\\BDAProj\\intermediate\\transaction_mapping.pickle\")\n"
   ]
  },
  {
   "cell_type": "code",
   "execution_count": 5,
   "id": "b1c20d13-ce78-457c-8e38-5da2417d9f04",
   "metadata": {},
   "outputs": [],
   "source": []
  },
  {
   "cell_type": "code",
   "execution_count": null,
   "id": "53918c4c-4ab0-415a-8604-d4aac9aa2486",
   "metadata": {},
   "outputs": [],
   "source": [
    "# df_txn_mapping.loc[\"a466296c0dd52ac06587e6d69f2a778f877c6dabd81b60fc6680a2f10686f99\",0]"
   ]
  },
  {
   "cell_type": "code",
   "execution_count": 4,
   "id": "2f174373-2ce0-4040-ba99-eb63788f80d8",
   "metadata": {},
   "outputs": [],
   "source": [
    "## 2.2 Reading the mapping pickle created in 2.1 (after restarting kernel to clear all RAM)\n",
    "df_txn_mapping = pd.read_pickle(r\"C:\\Users\\japje\\BDAProj\\intermediate\\transaction_mapping.pickle\")"
   ]
  },
  {
   "cell_type": "code",
   "execution_count": 10,
   "id": "f7eed86b-650b-4313-814f-15a7cddb6fbd",
   "metadata": {},
   "outputs": [
    {
     "ename": "NameError",
     "evalue": "name 'list_tx_hashes' is not defined",
     "output_type": "error",
     "traceback": [
      "\u001b[1;31m---------------------------------------------------------------------------\u001b[0m",
      "\u001b[1;31mNameError\u001b[0m                                 Traceback (most recent call last)",
      "\u001b[1;32m<timed exec>\u001b[0m in \u001b[0;36m<module>\u001b[1;34m\u001b[0m\n",
      "\u001b[1;31mNameError\u001b[0m: name 'list_tx_hashes' is not defined"
     ]
    }
   ],
   "source": [
    "\n",
    "%%time\n",
    "\n",
    "## 2.2 Getting all outputs in output table\n",
    "list_outputs = []\n",
    "path = r\"C:\\Users\\japje\\BDAProj\\Data2015\"\n",
    "for root, dir, files in os.walk(path):\n",
    "    for f in files:\n",
    "        with open(os.path.join(root,f), encoding = \"utf-8\") as f:\n",
    "            for line in f:\n",
    "                ## Split the row\n",
    "                cells = line.split(\"\\t\")\n",
    "\n",
    "                ## Add transaciton to Set\n",
    "                transaction_hash = cells[1]\n",
    "                list_tx_hashes.append(transaction_hash)\n",
    "                \n",
    "list_tx_hashes = list(set(list_tx_hashes))"
   ]
  },
  {
   "cell_type": "code",
   "execution_count": null,
   "id": "0c231763-5edd-4dbd-ac5c-ee3049c3d1fd",
   "metadata": {},
   "outputs": [],
   "source": [
    "\n",
    "### Can be a gamechanger - Solution that will utilize all the cores of processer ==> 8x processing speed\n",
    "### Still WIP!!\n",
    "\n",
    "\n",
    "# import multiprocessing as mp,os\n",
    "\n",
    "# def process_wrapper(chunkStart, chunkSize, fpath):\n",
    "#     with open(fpath) as f:\n",
    "#         f.seek(chunkStart)\n",
    "#         lines = f.read(chunkSize).splitlines()\n",
    "#         for line in lines:\n",
    "#             ## Split the row\n",
    "#             cells = line.split(\"\\t\")\n",
    "#             ## Add transaciton to Set\n",
    "#             transaction_hash = cells[1]\n",
    "#             transaction_list.append(transaction_hash)\n",
    "\n",
    "# def chunkify(fname,size=1024*1024):\n",
    "#     fileEnd = os.path.getsize(fname)\n",
    "#     with open(fname,'r') as f:\n",
    "#         chunkEnd = f.tell()\n",
    "#         while True:\n",
    "#             chunkStart = chunkEnd\n",
    "#             f.seek(f.tell() - 1, os.SEEK_SET)\n",
    "#             f.readline()\n",
    "#             chunkEnd = f.tell()\n",
    "#             yield chunkStart, chunkEnd - chunkStart\n",
    "#             if chunkEnd > fileEnd:\n",
    "#                 break\n",
    "\n",
    "# #init objects\n",
    "# pool = mp.Pool(mp.cpu_count())\n",
    "# jobs = []\n",
    "# transaction_list = []\n",
    "# path = r\"C:\\Users\\japje\\BDAProj\\Data2015\"\n",
    "# for root, dir, files in os.walk(path):\n",
    "#     for f in files:\n",
    "#     #create jobs\n",
    "#         for chunkStart,chunkSize in chunkify(os.path.join(root, f)):\n",
    "#             jobs.append( pool.apply_async(process_wrapper,(chunkStart,chunkSize,os.path.join(root, f))) )\n",
    "\n",
    "#         #wait for all jobs to finish\n",
    "#         for job in jobs:\n",
    "#             job.get()\n",
    "\n",
    "#         #clean up\n",
    "#         pool.close()\n"
   ]
  },
  {
   "cell_type": "code",
   "execution_count": 7,
   "id": "6024cf9f-412f-4a22-a083-c8010eb77ba5",
   "metadata": {},
   "outputs": [
    {
     "name": "stdout",
     "output_type": "stream",
     "text": [
      "Wall time: 7.05 ms\n"
     ]
    }
   ],
   "source": [
    "%%time\n",
    "\n",
    "for i in range(1,100000):\n",
    "    pass;"
   ]
  },
  {
   "cell_type": "code",
   "execution_count": null,
   "id": "11621cf9-3c32-4df6-90b9-a9a9c3f6e53e",
   "metadata": {},
   "outputs": [],
   "source": []
  }
 ],
 "metadata": {
  "kernelspec": {
   "display_name": "Python 3 (ipykernel)",
   "language": "python",
   "name": "python3"
  },
  "language_info": {
   "codemirror_mode": {
    "name": "ipython",
    "version": 3
   },
   "file_extension": ".py",
   "mimetype": "text/x-python",
   "name": "python",
   "nbconvert_exporter": "python",
   "pygments_lexer": "ipython3",
   "version": "3.9.5"
  }
 },
 "nbformat": 4,
 "nbformat_minor": 5
}
