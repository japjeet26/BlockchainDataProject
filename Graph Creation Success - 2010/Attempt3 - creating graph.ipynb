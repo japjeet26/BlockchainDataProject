{
 "cells": [
  {
   "cell_type": "code",
   "execution_count": 3,
   "id": "b4988feb-e367-4f3d-b7d9-7108613bcc44",
   "metadata": {},
   "outputs": [],
   "source": [
    "import os\n",
    "import pickle\n",
    "import pandas as pd\n",
    "import numpy as np\n",
    "import networkx as nx\n"
   ]
  },
  {
   "cell_type": "code",
   "execution_count": 56,
   "id": "42bcb85f-3909-4501-9228-b7450f14d123",
   "metadata": {},
   "outputs": [
    {
     "name": "stdout",
     "output_type": "stream",
     "text": [
      "Wall time: 308 ms\n"
     ]
    }
   ],
   "source": [
    "%%time\n",
    "\n",
    "## Creating the mapping\n",
    "## 1. transactionHash- Integer ID mapping\n",
    "\n",
    "list_tx_hashes = []\n",
    "path = r\"C:\\Users\\japje\\BDAProj\\edges2010\"\n",
    "for root, dir, files in os.walk(path):\n",
    "    for f in files:\n",
    "        with open(os.path.join(root,f), encoding = \"utf-8\") as f:\n",
    "            for line in f:\n",
    "                ## Split the row\n",
    "                cells = line.split(\"\\t\")\n",
    "\n",
    "                ## Add transaciton to Set\n",
    "                transaction_hash = cells[1]\n",
    "                list_tx_hashes.append(transaction_hash)\n",
    "                \n",
    "                \n",
    "list_tx_hashes = list(set(list_tx_hashes))\n",
    "txn_mapping = dict(zip(list_tx_hashes, range(len(list_tx_hashes))))\n",
    "del list_tx_hashes"
   ]
  },
  {
   "cell_type": "code",
   "execution_count": 9,
   "id": "85f43527-ac40-45c0-918d-51b605041f63",
   "metadata": {},
   "outputs": [
    {
     "name": "stdout",
     "output_type": "stream",
     "text": [
      "Wall time: 2min 26s\n"
     ]
    }
   ],
   "source": [
    "%%time\n",
    "\n",
    "## Creating the mapping\n",
    "##  Address- Integer ID mapping\n",
    "\n",
    "list_addresses = []\n",
    "path = r\"C:\\Users\\japje\\BDAProj\\edges2010\"\n",
    "for root, dir, files in os.walk(path):\n",
    "    for f in files:\n",
    "        if(\"outputs\" in f):\n",
    "            with open(os.path.join(root,f), encoding = \"utf-8\") as f:\n",
    "                for line in f:\n",
    "                    ## Split the row\n",
    "                    cells = line.split(\"\\t\")\n",
    "\n",
    "                    ## Add address to Set\n",
    "                    addresses = cells[2:][::2]\n",
    "                    list_addresses = list_addresses + addresses\n",
    "                \n",
    "                \n",
    "list_addresses = list(set(list_addresses))\n",
    "addr_mapping = dict(zip(list_addresses, range(len(list_addresses))))\n",
    "del list_addresses"
   ]
  },
  {
   "cell_type": "code",
   "execution_count": 94,
   "id": "81de83b4-7b90-45b1-878f-197419e0d2f2",
   "metadata": {},
   "outputs": [],
   "source": [
    "##Serialize Txn and Addr mappings\n",
    "\n",
    "# import pickle\n",
    "# path_txn_mapping2010 = r\"C:\\Users\\japje\\BDAProj\\Working2010\\txnHashtoID_mapping_2010.pickle\"\n",
    "# path_addr_mapping2010 = r\"C:\\Users\\japje\\BDAProj\\Working2010\\AddrToID_mapping_2010.pickle\"\n",
    "# with open(path_txn_mapping2010, \"wb\") as f:\n",
    "#     pickle.dump(txn_mapping, f)\n",
    "\n",
    "# with open(path_addr_mapping2010, \"wb\") as f1:\n",
    "#     pickle.dump(addr_mapping, f1)\n",
    "    "
   ]
  },
  {
   "cell_type": "code",
   "execution_count": 87,
   "id": "6ce4574a-e2d0-4b17-b925-36462859dba1",
   "metadata": {},
   "outputs": [],
   "source": [
    "#testing parse logic\n",
    "\n",
    "# sample_op_row = \"1279128036\t912c869c1ff6acaa9ca9d38ee66933c167ac980ee1c3e20086e3e6dd6a8896ef\t18gBZnsuSrhYLjvPUgwvDUJmksfREUGBTT\t1000000\t1M5o4Es83Ls4UJ3md94FbLbebLhWzF8eQc\t3079000000\"\n",
    "\n",
    "# cells = sample_op_row.split(\"\\t\")"
   ]
  },
  {
   "cell_type": "code",
   "execution_count": 116,
   "id": "b28af8ad-8303-42eb-9f19-3830af0234f1",
   "metadata": {},
   "outputs": [
    {
     "name": "stdout",
     "output_type": "stream",
     "text": [
      "Wall time: 1.53 s\n"
     ]
    }
   ],
   "source": [
    "%%time\n",
    "## Generation of output mappings\n",
    "## 1. txnID -> output_index -> OutputID\n",
    "## 2. OutputID -> addressID -> amount\n",
    "\n",
    "list_addresses = []\n",
    "path = r\"C:\\Users\\japje\\BDAProj\\edges2010\"\n",
    "mapping_tx_to_op = {}\n",
    "mapping_op = {}\n",
    "global_index = 0\n",
    "for root, dir, files in os.walk(path):\n",
    "    for f in files:\n",
    "        if(\"outputs\" in f):\n",
    "            with open(os.path.join(root,f), encoding = \"utf-8\") as f:\n",
    "                for line in f:\n",
    "                    ## Split the row\n",
    "                    cells = line.rstrip().split(\"\\t\")\n",
    "                    # print(cells)\n",
    "                    list_tx_index = list(range(0, len(cells[2:])//2))\n",
    "                    list_addr_id = list(range(global_index+1, global_index+1+len(cells[2:])//2))\n",
    "                    list_tx_rep = [txn_mapping[cells[1]]] * (len(cells[2:])//2)\n",
    "\n",
    "                    list_addresses = [addr_mapping[x] for x in cells[2:][::2]]\n",
    "                    list_amounts = cells[3:][::2]\n",
    "\n",
    "                    mapping_delta1 = {x: {y: z} for x, y, z in zip(list_tx_rep, list_tx_index, list_addr_id)}\n",
    "\n",
    "                    mapping_delta2 = {x: {y: z} for x, y, z in zip(list_addr_id, list_addresses, list_amounts)}\n",
    "\n",
    "                    mapping_tx_to_op.update(mapping_delta1)\n",
    "                    mapping_op.update(mapping_delta2)\n",
    "                    global_index = global_index+1\n",
    "                global_index = global_index+1\n",
    "\n",
    "\n"
   ]
  },
  {
   "cell_type": "code",
   "execution_count": 118,
   "id": "81200b97-8e85-435a-888f-523735f20daf",
   "metadata": {},
   "outputs": [
    {
     "data": {
      "text/plain": [
       "117489"
      ]
     },
     "execution_count": 118,
     "metadata": {},
     "output_type": "execute_result"
    }
   ],
   "source": [
    "len(mapping_op)"
   ]
  },
  {
   "cell_type": "code",
   "execution_count": 119,
   "id": "9261a6e2-26e7-42fb-99ed-fdef4c0163cf",
   "metadata": {},
   "outputs": [],
   "source": [
    " ## Serialize output mappings\n",
    "\n",
    "import pickle\n",
    "path_txn_to_op_mapping2010 = r\"C:\\Users\\japje\\BDAProj\\Working2010\\txnID_index_to_outputID_mapping_2010.pickle\"\n",
    "path_opID_to_addrAmt_mapping2010 = r\"C:\\Users\\japje\\BDAProj\\Working2010\\opID_to_addrAmt_mapping2010.pickle\"\n",
    "\n",
    "with open(path_txn_to_op_mapping2010, \"wb\") as f:\n",
    "    pickle.dump(mapping_tx_to_op, f)\n",
    "\n",
    "with open(path_opID_to_addrAmt_mapping2010, \"wb\") as f1:\n",
    "    pickle.dump(mapping_op, f1)"
   ]
  },
  {
   "cell_type": "code",
   "execution_count": 15,
   "id": "b8eb83f9-7811-4b33-89a0-049055de1c05",
   "metadata": {
    "jupyter": {
     "source_hidden": true
    },
    "tags": []
   },
   "outputs": [],
   "source": [
    "## Defining 2 node classes\n",
    "\n",
    "# class Transaction:\n",
    "#     def __init__(self, id):\n",
    "#         self.id = id\n",
    "\n",
    "# class Output:\n",
    "#     def __init__(self, addr_id, amount):\n",
    "#         self.addr_id = addr_id\n",
    "#         self.amount = amount"
   ]
  },
  {
   "cell_type": "code",
   "execution_count": null,
   "id": "6b9ba6a4-951a-4574-a69d-511d31bd3734",
   "metadata": {},
   "outputs": [],
   "source": [
    "## Reading inputs to create input mapping {transactionID --> [output indexes]}\n",
    "## Adding edges\n",
    "\n",
    "path = r\"C:\\Users\\japje\\BDAProj\\edges2010\"\n",
    "# mapping_tx_to_op = {}\n",
    "mapping_ip = {}\n",
    "for root, dir, files in os.walk(path):\n",
    "    for f in files:\n",
    "        if(\"inputs\" in f):\n",
    "            # print(f)\n",
    "            with open(os.path.join(root,f), encoding = \"utf-8\") as f:\n",
    "                for line in f:\n",
    "                    cells = line.rstrip().split(\"\\t\")\n",
    "                    txn_id = txn_mapping[cells[1]]\n",
    "                    \n",
    "                    inputs = cells[2:]\n",
    "                    input_index = []\n",
    "                    for i in range(0, len(inputs)):\n",
    "                        # print(str(inputs[i]) + \"----\"+str(inputs[i+1]))\n",
    "                        try:\n",
    "                            print(str(txn_mapping[inputs[i]]) + \"----\" + str(inputs[i+1]))\n",
    "                            input_index.append(mapping_tx_to_op[int(txn_mapping[inputs[i]])][int(inputs[i+1])])\n",
    "                        except:\n",
    "                            pass\n",
    "                        i = i+2\n",
    "                    mapping_ip[txn_id] = input_index\n",
    "\n"
   ]
  },
  {
   "cell_type": "code",
   "execution_count": 159,
   "id": "c4f4f5ce-c451-4ecd-8cfb-0a66fb9ab21b",
   "metadata": {},
   "outputs": [],
   "source": [
    " ## Serialize input mapping\n",
    "import pickle\n",
    "path_ip_mapping2010 = r\"C:\\Users\\japje\\BDAProj\\Working2010\\inp_mapping_2010.pickle\"\n",
    "\n",
    "\n",
    "with open(path_ip_mapping2010, \"wb\") as f:\n",
    "    pickle.dump(mapping_ip, f)\n",
    "\n"
   ]
  },
  {
   "cell_type": "code",
   "execution_count": null,
   "id": "6b529a25-2a0f-40b0-9fed-bba73e40cb6d",
   "metadata": {},
   "outputs": [],
   "source": [
    "## 1. generate directed graph (NetworkX library) - Insert transactions (prefix \"t-\") and outputs from the output file\n",
    "\n",
    "## Initialize\n",
    "G = nx.DiGraph()\n",
    "\n",
    "## Adding the transactions and outputs from output mappings\n",
    "for k in mapping_tx_to_op:\n",
    "    G.add_node(\"t_\"+ str(k))\n",
    "    connected_op = list(mapping_tx_to_op[k].values())\n",
    "    # print(connected_op)\n",
    "    G.add_nodes_from(connected_op)\n",
    "    G.add_edges_from([(\"t_\"+ str(k), y) for y in connected_op])\n",
    "    \n",
    "## Adding additional edges from input mapping\n",
    "for k in mapping_ip:\n",
    "    inputs = mapping_ip[k]\n",
    "    # print([(\"t_\"+ str(k), y) for y in inputs])\n",
    "    G.add_edges_from([(\"t_\"+ str(k), y) for y in inputs])\n"
   ]
  },
  {
   "cell_type": "code",
   "execution_count": 162,
   "id": "374cb527-1569-45c3-8ef8-e22b15baa4e3",
   "metadata": {},
   "outputs": [],
   "source": [
    "## Serialize Graph\n",
    "\n",
    "nx.write_gpickle(G, r\"C:\\Users\\japje\\BDAProj\\Working2010\\DiGraph.pickle\")"
   ]
  },
  {
   "cell_type": "code",
   "execution_count": null,
   "id": "f73cfe3a-638a-4a4e-928a-76bf3d0545b3",
   "metadata": {
    "jupyter": {
     "source_hidden": true
    },
    "tags": []
   },
   "outputs": [],
   "source": [
    "# G[Transaction(12)].edges\n",
    "\n",
    "# for n in G:\n",
    "#     print(n.id)\n",
    "\n",
    "G[t1][o3]\n"
   ]
  },
  {
   "cell_type": "code",
   "execution_count": 51,
   "id": "fe61e515-a21c-4fe7-b784-428cf056237b",
   "metadata": {
    "jupyter": {
     "source_hidden": true
    },
    "tags": []
   },
   "outputs": [],
   "source": [
    "\n",
    "# ##testing networkx\n",
    "\n",
    "# ## 1. generate graph\n",
    "\n",
    "# t1 = Transaction(12)\n",
    "# t2 = Transaction(123)\n",
    "# t3 = Transaction(43)\n",
    "\n",
    "# o1 = Output(12, 3400000)\n",
    "# o2 = Output(15, 34000000)\n",
    "# o3 = Output(126, 34000004)\n",
    "\n",
    "# G = nx.DiGraph()\n",
    "# G.add_node(t1)\n",
    "# G.add_node(t2)\n",
    "# G.add_node(t3)\n",
    "\n",
    "# G.add_node(o1)\n",
    "# G.add_node(o2)\n",
    "# G.add_node(o3)\n",
    "\n",
    "# G.add_edge(t1, o2)\n",
    "# G.add_edge(t2, o1)\n",
    "# G.add_edge(t1, o3)\n",
    "# G.add_edge(t3, o1) \n"
   ]
  },
  {
   "cell_type": "code",
   "execution_count": 158,
   "id": "545903a2-b041-492c-a430-e67684b5cf70",
   "metadata": {},
   "outputs": [
    {
     "data": {
      "text/plain": [
       "{0,\n",
       " 1,\n",
       " 2,\n",
       " 3,\n",
       " 4,\n",
       " 5,\n",
       " 6,\n",
       " 7,\n",
       " 8,\n",
       " 9,\n",
       " 10,\n",
       " 11,\n",
       " 12,\n",
       " 13,\n",
       " 14,\n",
       " 15,\n",
       " 16,\n",
       " 17,\n",
       " 18,\n",
       " 19,\n",
       " 20,\n",
       " 21,\n",
       " 22,\n",
       " 23,\n",
       " 24,\n",
       " 25,\n",
       " 26,\n",
       " 27,\n",
       " 28,\n",
       " 29,\n",
       " 30,\n",
       " 31,\n",
       " 33,\n",
       " 34,\n",
       " 35,\n",
       " 36,\n",
       " 38,\n",
       " 39,\n",
       " 40,\n",
       " 41,\n",
       " 42,\n",
       " 44,\n",
       " 45,\n",
       " 46,\n",
       " 47,\n",
       " 48,\n",
       " 49,\n",
       " 50,\n",
       " 51,\n",
       " 52,\n",
       " 53,\n",
       " 54,\n",
       " 55,\n",
       " 56,\n",
       " 57,\n",
       " 58,\n",
       " 76,\n",
       " 79,\n",
       " 80,\n",
       " 84,\n",
       " 92,\n",
       " 96,\n",
       " 101,\n",
       " 105,\n",
       " 106,\n",
       " 117,\n",
       " 118,\n",
       " 119,\n",
       " 131,\n",
       " 136,\n",
       " 162,\n",
       " 175,\n",
       " 199,\n",
       " 205,\n",
       " 279,\n",
       " 287,\n",
       " 314,\n",
       " 363,\n",
       " 384,\n",
       " 387,\n",
       " 451,\n",
       " 490}"
      ]
     },
     "execution_count": 158,
     "metadata": {},
     "output_type": "execute_result"
    }
   ],
   "source": [
    "set([len(x) for x in mapping_ip.values()])"
   ]
  },
  {
   "cell_type": "code",
   "execution_count": 155,
   "id": "97aac495-2aa2-4f25-ad29-8bf6d3a77b9f",
   "metadata": {},
   "outputs": [
    {
     "data": {
      "text/plain": [
       "2"
      ]
     },
     "execution_count": 155,
     "metadata": {},
     "output_type": "execute_result"
    }
   ],
   "source": [
    "mapping_tx_to_op[96434][1]"
   ]
  },
  {
   "cell_type": "code",
   "execution_count": null,
   "id": "3b5133ae-3d6e-436c-94e1-bcc1df8025a0",
   "metadata": {},
   "outputs": [],
   "source": []
  }
 ],
 "metadata": {
  "kernelspec": {
   "display_name": "Python 3 (ipykernel)",
   "language": "python",
   "name": "python3"
  },
  "language_info": {
   "codemirror_mode": {
    "name": "ipython",
    "version": 3
   },
   "file_extension": ".py",
   "mimetype": "text/x-python",
   "name": "python",
   "nbconvert_exporter": "python",
   "pygments_lexer": "ipython3",
   "version": "3.9.5"
  }
 },
 "nbformat": 4,
 "nbformat_minor": 5
}
