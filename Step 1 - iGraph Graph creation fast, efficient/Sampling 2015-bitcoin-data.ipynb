{
 "cells": [
  {
   "cell_type": "code",
   "execution_count": 1,
   "metadata": {
    "_cell_guid": "b1076dfc-b9ad-4769-8c92-a6c4dae69d19",
    "_uuid": "8f2839f25d086af736a60e9eeb907d3b93b6e0e5",
    "execution": {
     "iopub.execute_input": "2021-12-15T21:23:00.029293Z",
     "iopub.status.busy": "2021-12-15T21:23:00.028882Z",
     "iopub.status.idle": "2021-12-15T21:23:00.075075Z",
     "shell.execute_reply": "2021-12-15T21:23:00.074415Z",
     "shell.execute_reply.started": "2021-12-15T21:23:00.029172Z"
    }
   },
   "outputs": [],
   "source": [
    "import numpy as np # linear algebra\n",
    "import pandas as pd # data processing, CSV file I/O (e.g. pd.read_csv)\n",
    "import os"
   ]
  },
  {
   "cell_type": "code",
   "execution_count": 2,
   "metadata": {
    "execution": {
     "iopub.execute_input": "2021-12-15T21:23:04.215571Z",
     "iopub.status.busy": "2021-12-15T21:23:04.214984Z",
     "iopub.status.idle": "2021-12-15T21:23:12.585710Z",
     "shell.execute_reply": "2021-12-15T21:23:12.584716Z",
     "shell.execute_reply.started": "2021-12-15T21:23:04.215522Z"
    }
   },
   "outputs": [],
   "source": [
    "## Read Bitcoin Heist Full Data csv\n",
    "## And create a set of ransomware addresses \n",
    "## To be used in sampling outputs\n",
    "df_btch = pd.read_csv(r'../input/bitcoinheist-main-data/BitcoinHeistData.csv')\n",
    "set_ransomware = set(df_btch.loc[df_btch['label'] != \"white\"]['address'])"
   ]
  },
  {
   "cell_type": "code",
   "execution_count": 4,
   "metadata": {
    "execution": {
     "iopub.execute_input": "2021-12-15T21:26:39.608753Z",
     "iopub.status.busy": "2021-12-15T21:26:39.608202Z",
     "iopub.status.idle": "2021-12-15T21:29:18.637575Z",
     "shell.execute_reply": "2021-12-15T21:29:18.636645Z",
     "shell.execute_reply.started": "2021-12-15T21:26:39.608714Z"
    }
   },
   "outputs": [],
   "source": [
    "## Sampling Outputs\n",
    "## Criteria: \n",
    "## (i) If any of the addresses in a row is ransomware - Include the entire row\n",
    "## (ii) Otherwise include every 797th row\n",
    "## (Just a random prime number to scale down the data into managable size)\n",
    "## Note: We also track the corresponding Transaction Hash in list \"list_transactions\"\n",
    "## In order to filter corresponding inputs from input file\n",
    "\n",
    "path_input = '/kaggle/input'\n",
    "path_output = '/kaggle/working/'\n",
    "## List To track the transaction hashes of included rows\n",
    "list_transactions = []\n",
    "for root, dir, files in os.walk(path_input):\n",
    "    for f in files:\n",
    "        if \"output\" in f:\n",
    "            count_line = 0\n",
    "            with open(os.path.join(root,f)) as fi:\n",
    "                with open(os.path.join(path_output,f), \"w\") as fo:\n",
    "                    for line in fi:\n",
    "                        cells = line.rstrip().split(\"\\t\")\n",
    "                        list_addresses = [x for x in cells[2:][::2]]\n",
    "                        in_ransomw = set_ransomware.intersection(list_addresses)\n",
    "                        if(len(in_ransomw)>0):\n",
    "                            fo.write(line)\n",
    "                            transaction_hash = cells[1]\n",
    "                            list_transactions.append(transaction_hash)\n",
    "#                             fo.write('\\n')\n",
    "                            continue\n",
    "                        if (count_line % 797) == 0:\n",
    "                            fo.write(line)\n",
    "                            transaction_hash = cells[1]\n",
    "                            list_transactions.append(transaction_hash)\n",
    "#                             fo.write('\\n')\n",
    "                        count_line += 1\n",
    "                    print(\"done -->  \" + f)"
   ]
  },
  {
   "cell_type": "code",
   "execution_count": 5,
   "metadata": {
    "execution": {
     "iopub.execute_input": "2021-12-15T21:43:27.442196Z",
     "iopub.status.busy": "2021-12-15T21:43:27.441792Z",
     "iopub.status.idle": "2021-12-15T21:47:18.903268Z",
     "shell.execute_reply": "2021-12-15T21:47:18.901356Z",
     "shell.execute_reply.started": "2021-12-15T21:43:27.442159Z"
    }
   },
   "outputs": [],
   "source": [
    "## Sampling Inputs\n",
    "## Criteria: Filter all the rows where corresponding UTXO's parent transaction is icluded in \n",
    "## sampled outputs above. Based on the \"list_transactions\", which we typeCast to set\n",
    "\n",
    "transactions_set = set(list_transactions)\n",
    "for root, dir, files in os.walk(path_input):\n",
    "    for f in files:\n",
    "        if \"input\" in f:\n",
    "            with open(os.path.join(root,f)) as fi:\n",
    "                with open(os.path.join(path_output,f), \"w\") as fo:\n",
    "                    for line in fi:\n",
    "                        cells = line.rstrip().split(\"\\t\")\n",
    "                        list_transactions = [x for x in cells[2::2]]\n",
    "                        included_txns = transactions_set.intersection(list_transactions)\n",
    "                        if len(included_txns)>0:    \n",
    "                            fo.write(line)\n",
    "            print(\"done -->  \" + f)\n"
   ]
  }
 ],
 "metadata": {
  "kernelspec": {
   "display_name": "Python 3 (ipykernel)",
   "language": "python",
   "name": "python3"
  },
  "language_info": {
   "codemirror_mode": {
    "name": "ipython",
    "version": 3
   },
   "file_extension": ".py",
   "mimetype": "text/x-python",
   "name": "python",
   "nbconvert_exporter": "python",
   "pygments_lexer": "ipython3",
   "version": "3.9.5"
  }
 },
 "nbformat": 4,
 "nbformat_minor": 4
}
