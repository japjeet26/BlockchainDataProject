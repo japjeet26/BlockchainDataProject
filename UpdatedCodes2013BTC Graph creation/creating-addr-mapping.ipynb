{
 "cells": [
  {
   "cell_type": "code",
   "execution_count": 1,
   "id": "cfc0a221",
   "metadata": {
    "execution": {
     "iopub.execute_input": "2021-11-17T23:03:09.793011Z",
     "iopub.status.busy": "2021-11-17T23:03:09.791913Z",
     "iopub.status.idle": "2021-11-17T23:04:59.470208Z",
     "shell.execute_reply": "2021-11-17T23:04:59.470671Z",
     "shell.execute_reply.started": "2021-11-15T04:54:45.326434Z"
    },
    "papermill": {
     "duration": 109.686863,
     "end_time": "2021-11-17T23:04:59.471049",
     "exception": false,
     "start_time": "2021-11-17T23:03:09.784186",
     "status": "completed"
    },
    "tags": []
   },
   "outputs": [
    {
     "name": "stdout",
     "output_type": "stream",
     "text": [
      "done - <_io.TextIOWrapper name='/kaggle/input/bitcoin2013/outputs2013_11.txt' mode='r' encoding='UTF-8'>\n",
      "done - <_io.TextIOWrapper name='/kaggle/input/bitcoin2013/outputs2013_7.txt' mode='r' encoding='UTF-8'>\n",
      "done - <_io.TextIOWrapper name='/kaggle/input/bitcoin2013/outputs2013_8.txt' mode='r' encoding='UTF-8'>\n",
      "done - <_io.TextIOWrapper name='/kaggle/input/bitcoin2013/outputs2013_2.txt' mode='r' encoding='UTF-8'>\n",
      "done - <_io.TextIOWrapper name='/kaggle/input/bitcoin2013/outputs2013_5.txt' mode='r' encoding='UTF-8'>\n",
      "done - <_io.TextIOWrapper name='/kaggle/input/bitcoin2013/outputs2013_10.txt' mode='r' encoding='UTF-8'>\n",
      "done - <_io.TextIOWrapper name='/kaggle/input/bitcoin2013/outputs2013_4.txt' mode='r' encoding='UTF-8'>\n",
      "done - <_io.TextIOWrapper name='/kaggle/input/bitcoin2013/outputs2013_1.txt' mode='r' encoding='UTF-8'>\n",
      "done - <_io.TextIOWrapper name='/kaggle/input/bitcoin2013/outputs2013_3.txt' mode='r' encoding='UTF-8'>\n",
      "done - <_io.TextIOWrapper name='/kaggle/input/bitcoin2013/outputs2013_12.txt' mode='r' encoding='UTF-8'>\n",
      "done - <_io.TextIOWrapper name='/kaggle/input/bitcoin2013/outputs2013_9.txt' mode='r' encoding='UTF-8'>\n",
      "done - <_io.TextIOWrapper name='/kaggle/input/bitcoin2013/outputs2013_6.txt' mode='r' encoding='UTF-8'>\n",
      "!!!out of loop!!!\n",
      "Memory Consumed by Address mapping = 640.0 MB\n",
      "time consumed = %s 99.73115801811218\n"
     ]
    }
   ],
   "source": [
    "# -*- coding: utf-8 -*-\n",
    "\"\"\"\n",
    "Spyder Editor\n",
    "\n",
    "This is a temporary script file.\n",
    "\"\"\"\n",
    "\n",
    "\n",
    "import os\n",
    "import sys\n",
    "import pickle\n",
    "import time\n",
    "\n",
    "## Creating the mapping\n",
    "## 2. Address- Integer ID mapping\n",
    "start = time.time()\n",
    "\n",
    "list_from_pos2 = []\n",
    "import os\n",
    "for dirname, _, filenames in os.walk('/kaggle/input'):\n",
    "    for f in filenames:\n",
    "        if(\"outputs\" in f):\n",
    "            with open(os.path.join(dirname,f)) as f:\n",
    "                for line in f:\n",
    "                    ## Split the row and append to combined list\n",
    "                    list_from_pos2.append(line.split(\"\\t\")[2::2])\n",
    "\n",
    "\n",
    "            print(\"done - \" + str(f))\n",
    "                \n",
    "                \n",
    "print(\"!!!out of loop!!!\")\n",
    "\n",
    "\n",
    "## flatten the combined list\n",
    "list_addresses = [item for sublist in list_from_pos2 for item in sublist]\n",
    "\n",
    "del list_from_pos2\n",
    "\n",
    "\n",
    "\n",
    "list_addresses = list(set(list_addresses))\n",
    "addr_mapping = dict(zip(list_addresses, range(len(list_addresses))))\n",
    "del list_addresses\n",
    "print(\"Memory Consumed by Address mapping = \"+ str(round(sys.getsizeof(addr_mapping)/(1024*1024), 2)) + \" MB\")\n",
    "\n",
    "print(\"time consumed = %s\", time.time() - start)\n",
    "\n",
    "path_addr_mapping2013 = r\"/kaggle/working/Address_to_Id_mapping2013.pickle\"\n",
    "with open(path_addr_mapping2013, \"wb\") as f1:\n",
    "    pickle.dump(addr_mapping, f1)"
   ]
  },
  {
   "cell_type": "code",
   "execution_count": 2,
   "id": "8679a558",
   "metadata": {
    "execution": {
     "iopub.execute_input": "2021-11-17T23:04:59.770884Z",
     "iopub.status.busy": "2021-11-17T23:04:59.486321Z",
     "iopub.status.idle": "2021-11-17T23:04:59.774817Z",
     "shell.execute_reply": "2021-11-17T23:04:59.774265Z",
     "shell.execute_reply.started": "2021-11-15T04:59:11.601886Z"
    },
    "papermill": {
     "duration": 0.297378,
     "end_time": "2021-11-17T23:04:59.774945",
     "exception": false,
     "start_time": "2021-11-17T23:04:59.477567",
     "status": "completed"
    },
    "tags": []
   },
   "outputs": [
    {
     "data": {
      "text/plain": [
       "[0, 1, 2, 3, 4, 5, 6, 7, 8, 9]"
      ]
     },
     "execution_count": 2,
     "metadata": {},
     "output_type": "execute_result"
    }
   ],
   "source": [
    "list(addr_mapping.values())[:10]"
   ]
  },
  {
   "cell_type": "code",
   "execution_count": null,
   "id": "c3b3dad1",
   "metadata": {
    "papermill": {
     "duration": 0.006165,
     "end_time": "2021-11-17T23:04:59.788129",
     "exception": false,
     "start_time": "2021-11-17T23:04:59.781964",
     "status": "completed"
    },
    "tags": []
   },
   "outputs": [],
   "source": []
  }
 ],
 "metadata": {
  "kernelspec": {
   "display_name": "Python 3",
   "language": "python",
   "name": "python3"
  },
  "language_info": {
   "codemirror_mode": {
    "name": "ipython",
    "version": 3
   },
   "file_extension": ".py",
   "mimetype": "text/x-python",
   "name": "python",
   "nbconvert_exporter": "python",
   "pygments_lexer": "ipython3",
   "version": "3.7.10"
  },
  "papermill": {
   "default_parameters": {},
   "duration": 121.14669,
   "end_time": "2021-11-17T23:05:02.706310",
   "environment_variables": {},
   "exception": null,
   "input_path": "__notebook__.ipynb",
   "output_path": "__notebook__.ipynb",
   "parameters": {},
   "start_time": "2021-11-17T23:03:01.559620",
   "version": "2.3.3"
  }
 },
 "nbformat": 4,
 "nbformat_minor": 5
}
