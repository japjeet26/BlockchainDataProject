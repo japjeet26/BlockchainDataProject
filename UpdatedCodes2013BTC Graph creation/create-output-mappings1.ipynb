{
 "cells": [
  {
   "cell_type": "code",
   "execution_count": 1,
   "id": "6d1582cf",
   "metadata": {
    "execution": {
     "iopub.execute_input": "2021-11-17T04:04:56.237576Z",
     "iopub.status.busy": "2021-11-17T04:04:56.236914Z",
     "iopub.status.idle": "2021-11-17T04:04:56.240165Z",
     "shell.execute_reply": "2021-11-17T04:04:56.240682Z",
     "shell.execute_reply.started": "2021-11-16T06:18:30.470839Z"
    },
    "papermill": {
     "duration": 0.01792,
     "end_time": "2021-11-17T04:04:56.241020",
     "exception": false,
     "start_time": "2021-11-17T04:04:56.223100",
     "status": "completed"
    },
    "tags": []
   },
   "outputs": [],
   "source": [
    "import os\n",
    "import sys\n",
    "import pickle\n",
    "import time\n",
    "import gc"
   ]
  },
  {
   "cell_type": "code",
   "execution_count": 2,
   "id": "d1fa53a6",
   "metadata": {
    "execution": {
     "iopub.execute_input": "2021-11-17T04:04:56.257565Z",
     "iopub.status.busy": "2021-11-17T04:04:56.256605Z",
     "iopub.status.idle": "2021-11-17T04:04:56.259544Z",
     "shell.execute_reply": "2021-11-17T04:04:56.258959Z"
    },
    "papermill": {
     "duration": 0.012604,
     "end_time": "2021-11-17T04:04:56.259679",
     "exception": false,
     "start_time": "2021-11-17T04:04:56.247075",
     "status": "completed"
    },
    "tags": []
   },
   "outputs": [],
   "source": [
    "start = time.time()"
   ]
  },
  {
   "cell_type": "code",
   "execution_count": 3,
   "id": "dc1c3a06",
   "metadata": {
    "execution": {
     "iopub.execute_input": "2021-11-17T04:04:56.278386Z",
     "iopub.status.busy": "2021-11-17T04:04:56.277365Z",
     "iopub.status.idle": "2021-11-17T04:04:56.281254Z",
     "shell.execute_reply": "2021-11-17T04:04:56.281707Z",
     "shell.execute_reply.started": "2021-11-15T05:33:47.317632Z"
    },
    "papermill": {
     "duration": 0.017062,
     "end_time": "2021-11-17T04:04:56.281918",
     "exception": false,
     "start_time": "2021-11-17T04:04:56.264856",
     "status": "completed"
    },
    "tags": []
   },
   "outputs": [
    {
     "data": {
      "text/plain": [
       "'\\nADDRESS-ID MAPPING CREATION\\n'"
      ]
     },
     "execution_count": 3,
     "metadata": {},
     "output_type": "execute_result"
    }
   ],
   "source": [
    "# -*- coding: utf-8 -*-\n",
    "\"\"\"\n",
    "ADDRESS-ID MAPPING CREATION\n",
    "\"\"\"\n",
    "\n",
    "\n",
    "\n",
    "# ## Creating the mapping\n",
    "# ## 2. Address- Integer ID mapping\n",
    "\n",
    "# list_from_pos2 = []\n",
    "# for dirname, _, filenames in os.walk('/kaggle/input'):\n",
    "#     for f in filenames:\n",
    "#         if(\"outputs\" in f):\n",
    "#             with open(os.path.join(dirname,f)) as f:\n",
    "#                 for line in f:\n",
    "#                     ## Split the row and append to combined list\n",
    "#                     list_from_pos2.append(line.split(\"\\t\")[2::2])\n",
    "\n",
    "\n",
    "#             print(\"done - \" + str(f))\n",
    "                \n",
    "                \n",
    "# print(\"!!!out of loop!!!\")\n",
    "\n",
    "\n",
    "# ## flatten the combined list\n",
    "# list_addresses = [item for sublist in list_from_pos2 for item in sublist]\n",
    "\n",
    "# del list_from_pos2\n",
    "# del line\n",
    "# gc.collect()\n",
    "\n",
    "\n",
    "# list_addresses = list(set(list_addresses))\n",
    "# addr_mapping = dict(zip(list_addresses, range(len(list_addresses))))\n",
    "# del list_addresses\n",
    "# print(\"Memory Consumed by Address mapping = \"+ str(round(sys.getsizeof(addr_mapping)/(1024*1024), 2)) + \" MB\")\n",
    "# gc.collect()\n",
    "\n"
   ]
  },
  {
   "cell_type": "code",
   "execution_count": 4,
   "id": "0acfba13",
   "metadata": {
    "execution": {
     "iopub.execute_input": "2021-11-17T04:04:56.300928Z",
     "iopub.status.busy": "2021-11-17T04:04:56.300215Z",
     "iopub.status.idle": "2021-11-17T04:07:28.967072Z",
     "shell.execute_reply": "2021-11-17T04:07:28.966453Z",
     "shell.execute_reply.started": "2021-11-15T05:35:29.701474Z"
    },
    "papermill": {
     "duration": 152.679202,
     "end_time": "2021-11-17T04:07:28.967242",
     "exception": false,
     "start_time": "2021-11-17T04:04:56.288040",
     "status": "completed"
    },
    "tags": []
   },
   "outputs": [
    {
     "name": "stdout",
     "output_type": "stream",
     "text": [
      "done - <_io.TextIOWrapper name='/kaggle/input/bitcoin2013/inputs2013_11.txt' mode='r' encoding='utf-8'>\n",
      "done - <_io.TextIOWrapper name='/kaggle/input/bitcoin2013/inputs2013_4.txt' mode='r' encoding='utf-8'>\n",
      "done - <_io.TextIOWrapper name='/kaggle/input/bitcoin2013/inputs2013_6.txt' mode='r' encoding='utf-8'>\n",
      "done - <_io.TextIOWrapper name='/kaggle/input/bitcoin2013/inputs2013_5.txt' mode='r' encoding='utf-8'>\n",
      "done - <_io.TextIOWrapper name='/kaggle/input/bitcoin2013/outputs2013_11.txt' mode='r' encoding='utf-8'>\n",
      "done - <_io.TextIOWrapper name='/kaggle/input/bitcoin2013/inputs2013_10.txt' mode='r' encoding='utf-8'>\n",
      "done - <_io.TextIOWrapper name='/kaggle/input/bitcoin2013/inputs2013_12.txt' mode='r' encoding='utf-8'>\n",
      "done - <_io.TextIOWrapper name='/kaggle/input/bitcoin2013/inputs2013_1.txt' mode='r' encoding='utf-8'>\n",
      "done - <_io.TextIOWrapper name='/kaggle/input/bitcoin2013/inputs2013_8.txt' mode='r' encoding='utf-8'>\n",
      "done - <_io.TextIOWrapper name='/kaggle/input/bitcoin2013/outputs2013_7.txt' mode='r' encoding='utf-8'>\n",
      "done - <_io.TextIOWrapper name='/kaggle/input/bitcoin2013/outputs2013_8.txt' mode='r' encoding='utf-8'>\n",
      "done - <_io.TextIOWrapper name='/kaggle/input/bitcoin2013/inputs2013_3.txt' mode='r' encoding='utf-8'>\n",
      "done - <_io.TextIOWrapper name='/kaggle/input/bitcoin2013/inputs2013_2.txt' mode='r' encoding='utf-8'>\n",
      "done - <_io.TextIOWrapper name='/kaggle/input/bitcoin2013/outputs2013_2.txt' mode='r' encoding='utf-8'>\n",
      "done - <_io.TextIOWrapper name='/kaggle/input/bitcoin2013/outputs2013_5.txt' mode='r' encoding='utf-8'>\n",
      "done - <_io.TextIOWrapper name='/kaggle/input/bitcoin2013/outputs2013_10.txt' mode='r' encoding='utf-8'>\n",
      "done - <_io.TextIOWrapper name='/kaggle/input/bitcoin2013/outputs2013_4.txt' mode='r' encoding='utf-8'>\n",
      "done - <_io.TextIOWrapper name='/kaggle/input/bitcoin2013/inputs2013_7.txt' mode='r' encoding='utf-8'>\n",
      "done - <_io.TextIOWrapper name='/kaggle/input/bitcoin2013/outputs2013_1.txt' mode='r' encoding='utf-8'>\n",
      "done - <_io.TextIOWrapper name='/kaggle/input/bitcoin2013/outputs2013_3.txt' mode='r' encoding='utf-8'>\n",
      "done - <_io.TextIOWrapper name='/kaggle/input/bitcoin2013/outputs2013_12.txt' mode='r' encoding='utf-8'>\n",
      "done - <_io.TextIOWrapper name='/kaggle/input/bitcoin2013/outputs2013_9.txt' mode='r' encoding='utf-8'>\n",
      "done - <_io.TextIOWrapper name='/kaggle/input/bitcoin2013/outputs2013_6.txt' mode='r' encoding='utf-8'>\n",
      "done - <_io.TextIOWrapper name='/kaggle/input/bitcoin2013/inputs2013_9.txt' mode='r' encoding='utf-8'>\n",
      "Memory Consumed by Transaction mapping = 640.0 MB\n"
     ]
    }
   ],
   "source": [
    "# -*- coding: utf-8 -*-\n",
    "\"\"\"\n",
    "TRANSACTION-ID MAPPING CREATION\n",
    "\"\"\"\n",
    "\n",
    "list_tx_hashes = []\n",
    "path = r'/kaggle/input'\n",
    "for root, dir, files in os.walk(path):\n",
    "    for f in files:\n",
    "        with open(os.path.join(root,f), encoding = \"utf-8\") as f:\n",
    "            for line in f:\n",
    "                ## Split the row\n",
    "                cells = line.split(\"\\t\")\n",
    "\n",
    "                ## Add transaciton to Set\n",
    "                transaction_hash = cells[1]\n",
    "                list_tx_hashes.append(transaction_hash)\n",
    "        print(\"done - \" + str(f))\n",
    "                \n",
    "                \n",
    "list_tx_hashes = list(set(list_tx_hashes))\n",
    "txn_mapping = dict(zip(list_tx_hashes, range(len(list_tx_hashes))))\n",
    "\n",
    "\n",
    "del list_tx_hashes\n",
    "del transaction_hash\n",
    "gc.collect()\n",
    "print(\"Memory Consumed by Transaction mapping = \" + str(round(sys.getsizeof(txn_mapping)/(1024*1024), 2)) + \" MB\")"
   ]
  },
  {
   "cell_type": "code",
   "execution_count": 5,
   "id": "42a13b83",
   "metadata": {
    "execution": {
     "iopub.execute_input": "2021-11-17T04:07:29.002788Z",
     "iopub.status.busy": "2021-11-17T04:07:29.002102Z",
     "iopub.status.idle": "2021-11-17T04:09:47.711422Z",
     "shell.execute_reply": "2021-11-17T04:09:47.712003Z"
    },
    "papermill": {
     "duration": 138.730403,
     "end_time": "2021-11-17T04:09:47.712231",
     "exception": false,
     "start_time": "2021-11-17T04:07:28.981828",
     "status": "completed"
    },
    "tags": []
   },
   "outputs": [
    {
     "name": "stdout",
     "output_type": "stream",
     "text": [
      "starting to pickle\n",
      "time consumed = %s sec 291.4288852214813\n"
     ]
    }
   ],
   "source": [
    "## Generation of output mappings\n",
    "## 1. txnID -> output_index -> OutputID\n",
    "\n",
    "\n",
    "list_addresses = []\n",
    "path = r\"C:\\Users\\japje\\BDAProj\\edges2010\"\n",
    "mapping_tx_to_op = {}\n",
    "global_index = 0\n",
    "for dirname, _, filenames in os.walk('/kaggle/input'):\n",
    "    for f in filenames:\n",
    "        if(\"outputs\" in f):\n",
    "            with open(os.path.join(root,f), encoding = \"utf-8\") as f:\n",
    "                for line in f:\n",
    "                    ## Split the row\n",
    "                    cells = line.rstrip().split(\"\\t\")\n",
    "                    # print(cells)\n",
    "                    list_tx_index = list(range(0, len(cells[2:])//2))\n",
    "                    list_op_id = list(range(global_index+1, global_index+1+len(cells[2:])//2))\n",
    "                    list_tx_rep = [txn_mapping[cells[1]]] * (len(cells[2:])//2)\n",
    "                    mapping_delta1 = {x: {y: z} for x, y, z in zip(list_tx_rep, list_tx_index, list_op_id)}\n",
    "                    mapping_tx_to_op.update(mapping_delta1)\n",
    "                    global_index = global_index+1\n",
    "#                     gc.collect()\n",
    "                global_index = global_index+1\n",
    "\n",
    "\n",
    "                \n",
    "\n",
    "\n",
    "\n",
    "gc.collect()\n",
    "\n",
    "print(\"starting to pickle\")\n",
    "path = r\"./TxId_to_op_index.pickle\"\n",
    "with open(path, \"wb\") as f1:\n",
    "    pickle.dump(txn_mapping, f1)\n",
    "\n",
    "print(\"time consumed = %s sec\", time.time() - start)"
   ]
  },
  {
   "cell_type": "code",
   "execution_count": 6,
   "id": "5d4f1c47",
   "metadata": {
    "execution": {
     "iopub.execute_input": "2021-11-17T04:09:47.743155Z",
     "iopub.status.busy": "2021-11-17T04:09:47.742455Z",
     "iopub.status.idle": "2021-11-17T04:09:47.746984Z",
     "shell.execute_reply": "2021-11-17T04:09:47.746415Z"
    },
    "papermill": {
     "duration": 0.021599,
     "end_time": "2021-11-17T04:09:47.747209",
     "exception": false,
     "start_time": "2021-11-17T04:09:47.725610",
     "status": "completed"
    },
    "tags": []
   },
   "outputs": [],
   "source": [
    "## 2. OutputID -> addressID -> amount"
   ]
  }
 ],
 "metadata": {
  "kernelspec": {
   "display_name": "Python 3",
   "language": "python",
   "name": "python3"
  },
  "language_info": {
   "codemirror_mode": {
    "name": "ipython",
    "version": 3
   },
   "file_extension": ".py",
   "mimetype": "text/x-python",
   "name": "python",
   "nbconvert_exporter": "python",
   "pygments_lexer": "ipython3",
   "version": "3.7.10"
  },
  "papermill": {
   "default_parameters": {},
   "duration": 304.686143,
   "end_time": "2021-11-17T04:09:52.375640",
   "environment_variables": {},
   "exception": null,
   "input_path": "__notebook__.ipynb",
   "output_path": "__notebook__.ipynb",
   "parameters": {},
   "start_time": "2021-11-17T04:04:47.689497",
   "version": "2.3.3"
  }
 },
 "nbformat": 4,
 "nbformat_minor": 5
}
