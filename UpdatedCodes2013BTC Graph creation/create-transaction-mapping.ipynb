{
 "cells": [
  {
   "cell_type": "code",
   "execution_count": 1,
   "id": "6d1b98bb",
   "metadata": {
    "execution": {
     "iopub.execute_input": "2021-11-17T20:20:47.035829Z",
     "iopub.status.busy": "2021-11-17T20:20:47.034562Z",
     "iopub.status.idle": "2021-11-17T20:23:47.156712Z",
     "shell.execute_reply": "2021-11-17T20:23:47.155985Z",
     "shell.execute_reply.started": "2021-11-15T05:19:41.202438Z"
    },
    "papermill": {
     "duration": 180.130105,
     "end_time": "2021-11-17T20:23:47.156879",
     "exception": false,
     "start_time": "2021-11-17T20:20:47.026774",
     "status": "completed"
    },
    "tags": []
   },
   "outputs": [
    {
     "name": "stdout",
     "output_type": "stream",
     "text": [
      "done - <_io.TextIOWrapper name='/kaggle/input/bitcoin2013/inputs2013_11.txt' mode='r' encoding='utf-8'>\n",
      "done - <_io.TextIOWrapper name='/kaggle/input/bitcoin2013/inputs2013_4.txt' mode='r' encoding='utf-8'>\n",
      "done - <_io.TextIOWrapper name='/kaggle/input/bitcoin2013/inputs2013_6.txt' mode='r' encoding='utf-8'>\n",
      "done - <_io.TextIOWrapper name='/kaggle/input/bitcoin2013/inputs2013_5.txt' mode='r' encoding='utf-8'>\n",
      "done - <_io.TextIOWrapper name='/kaggle/input/bitcoin2013/outputs2013_11.txt' mode='r' encoding='utf-8'>\n",
      "done - <_io.TextIOWrapper name='/kaggle/input/bitcoin2013/inputs2013_10.txt' mode='r' encoding='utf-8'>\n",
      "done - <_io.TextIOWrapper name='/kaggle/input/bitcoin2013/inputs2013_12.txt' mode='r' encoding='utf-8'>\n",
      "done - <_io.TextIOWrapper name='/kaggle/input/bitcoin2013/inputs2013_1.txt' mode='r' encoding='utf-8'>\n",
      "done - <_io.TextIOWrapper name='/kaggle/input/bitcoin2013/inputs2013_8.txt' mode='r' encoding='utf-8'>\n",
      "done - <_io.TextIOWrapper name='/kaggle/input/bitcoin2013/outputs2013_7.txt' mode='r' encoding='utf-8'>\n",
      "done - <_io.TextIOWrapper name='/kaggle/input/bitcoin2013/outputs2013_8.txt' mode='r' encoding='utf-8'>\n",
      "done - <_io.TextIOWrapper name='/kaggle/input/bitcoin2013/inputs2013_3.txt' mode='r' encoding='utf-8'>\n",
      "done - <_io.TextIOWrapper name='/kaggle/input/bitcoin2013/inputs2013_2.txt' mode='r' encoding='utf-8'>\n",
      "done - <_io.TextIOWrapper name='/kaggle/input/bitcoin2013/outputs2013_2.txt' mode='r' encoding='utf-8'>\n",
      "done - <_io.TextIOWrapper name='/kaggle/input/bitcoin2013/outputs2013_5.txt' mode='r' encoding='utf-8'>\n",
      "done - <_io.TextIOWrapper name='/kaggle/input/bitcoin2013/outputs2013_10.txt' mode='r' encoding='utf-8'>\n",
      "done - <_io.TextIOWrapper name='/kaggle/input/bitcoin2013/outputs2013_4.txt' mode='r' encoding='utf-8'>\n",
      "done - <_io.TextIOWrapper name='/kaggle/input/bitcoin2013/inputs2013_7.txt' mode='r' encoding='utf-8'>\n",
      "done - <_io.TextIOWrapper name='/kaggle/input/bitcoin2013/outputs2013_1.txt' mode='r' encoding='utf-8'>\n",
      "done - <_io.TextIOWrapper name='/kaggle/input/bitcoin2013/outputs2013_3.txt' mode='r' encoding='utf-8'>\n",
      "done - <_io.TextIOWrapper name='/kaggle/input/bitcoin2013/outputs2013_12.txt' mode='r' encoding='utf-8'>\n",
      "done - <_io.TextIOWrapper name='/kaggle/input/bitcoin2013/outputs2013_9.txt' mode='r' encoding='utf-8'>\n",
      "done - <_io.TextIOWrapper name='/kaggle/input/bitcoin2013/outputs2013_6.txt' mode='r' encoding='utf-8'>\n",
      "done - <_io.TextIOWrapper name='/kaggle/input/bitcoin2013/inputs2013_9.txt' mode='r' encoding='utf-8'>\n",
      "Memory Consumed by Transaction mapping = 640.0 MB\n",
      "time consumed = %s sec 180.1053171157837\n"
     ]
    }
   ],
   "source": [
    "import os\n",
    "import pickle\n",
    "import sys\n",
    "import time\n",
    "\n",
    "start = time.time()\n",
    "\n",
    "## Creating the mapping\n",
    "## 1. transactionHash- Integer ID mapping\n",
    "\n",
    "list_tx_hashes = []\n",
    "path = r'/kaggle/input'\n",
    "for root, dir, files in os.walk(path):\n",
    "    for f in files:\n",
    "        with open(os.path.join(root,f), encoding = \"utf-8\") as f:\n",
    "            for line in f:\n",
    "                ## Split the row\n",
    "                cells = line.split(\"\\t\")\n",
    "\n",
    "                ## Add transaciton to Set\n",
    "                transaction_hash = cells[1]\n",
    "                list_tx_hashes.append(transaction_hash)\n",
    "        print(\"done - \" + str(f))\n",
    "                \n",
    "                \n",
    "list_tx_hashes = list(set(list_tx_hashes))\n",
    "txn_mapping = dict(zip(list_tx_hashes, range(len(list_tx_hashes))))\n",
    "del list_tx_hashes\n",
    "print(\"Memory Consumed by Transaction mapping = \" + str(round(sys.getsizeof(txn_mapping)/(1024*1024), 2)) + \" MB\")\n",
    "\n",
    "path_tx_mapping2013 = r\"./TxHash_to_Id_mapping2013.pickle\"\n",
    "with open(path_tx_mapping2013, \"wb\") as f1:\n",
    "    pickle.dump(txn_mapping, f1)\n",
    "    \n",
    "print(\"time consumed = %s sec\", time.time() - start)"
   ]
  }
 ],
 "metadata": {
  "kernelspec": {
   "display_name": "Python 3",
   "language": "python",
   "name": "python3"
  },
  "language_info": {
   "codemirror_mode": {
    "name": "ipython",
    "version": 3
   },
   "file_extension": ".py",
   "mimetype": "text/x-python",
   "name": "python",
   "nbconvert_exporter": "python",
   "pygments_lexer": "ipython3",
   "version": "3.7.10"
  },
  "papermill": {
   "default_parameters": {},
   "duration": 191.844383,
   "end_time": "2021-11-17T20:23:49.877358",
   "environment_variables": {},
   "exception": null,
   "input_path": "__notebook__.ipynb",
   "output_path": "__notebook__.ipynb",
   "parameters": {},
   "start_time": "2021-11-17T20:20:38.032975",
   "version": "2.3.3"
  }
 },
 "nbformat": 4,
 "nbformat_minor": 5
}
