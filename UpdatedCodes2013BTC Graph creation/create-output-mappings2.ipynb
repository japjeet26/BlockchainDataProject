{
 "cells": [
  {
   "cell_type": "code",
   "execution_count": 1,
   "id": "b924e6fd",
   "metadata": {
    "_cell_guid": "b1076dfc-b9ad-4769-8c92-a6c4dae69d19",
    "_uuid": "8f2839f25d086af736a60e9eeb907d3b93b6e0e5",
    "execution": {
     "iopub.execute_input": "2021-11-19T16:51:24.572690Z",
     "iopub.status.busy": "2021-11-19T16:51:24.570923Z",
     "iopub.status.idle": "2021-11-19T16:51:24.581669Z",
     "shell.execute_reply": "2021-11-19T16:51:24.582268Z",
     "shell.execute_reply.started": "2021-11-19T06:14:32.854443Z"
    },
    "papermill": {
     "duration": 0.023573,
     "end_time": "2021-11-19T16:51:24.582556",
     "exception": false,
     "start_time": "2021-11-19T16:51:24.558983",
     "status": "completed"
    },
    "tags": []
   },
   "outputs": [],
   "source": [
    "import os\n",
    "import sys\n",
    "import pickle\n",
    "import time\n",
    "import gc\n",
    "import numpy as np"
   ]
  },
  {
   "cell_type": "code",
   "execution_count": 2,
   "id": "71228220",
   "metadata": {
    "execution": {
     "iopub.execute_input": "2021-11-19T16:51:24.597158Z",
     "iopub.status.busy": "2021-11-19T16:51:24.596232Z",
     "iopub.status.idle": "2021-11-19T16:51:24.600019Z",
     "shell.execute_reply": "2021-11-19T16:51:24.600591Z",
     "shell.execute_reply.started": "2021-11-17T20:27:36.473121Z"
    },
    "papermill": {
     "duration": 0.012468,
     "end_time": "2021-11-19T16:51:24.600754",
     "exception": false,
     "start_time": "2021-11-19T16:51:24.588286",
     "status": "completed"
    },
    "tags": []
   },
   "outputs": [],
   "source": [
    "start = time.time()"
   ]
  },
  {
   "cell_type": "code",
   "execution_count": 3,
   "id": "a4d8cba4",
   "metadata": {
    "execution": {
     "iopub.execute_input": "2021-11-19T16:51:24.621267Z",
     "iopub.status.busy": "2021-11-19T16:51:24.620571Z",
     "iopub.status.idle": "2021-11-19T16:53:08.608671Z",
     "shell.execute_reply": "2021-11-19T16:53:08.608129Z",
     "shell.execute_reply.started": "2021-11-17T21:17:45.237748Z"
    },
    "papermill": {
     "duration": 104.002704,
     "end_time": "2021-11-19T16:53:08.608810",
     "exception": false,
     "start_time": "2021-11-19T16:51:24.606106",
     "status": "completed"
    },
    "tags": []
   },
   "outputs": [
    {
     "name": "stdout",
     "output_type": "stream",
     "text": [
      "outputs2013_11.txt\n",
      "done - <_io.TextIOWrapper name='/kaggle/input/bitcoin2013/outputs2013_11.txt' mode='r' encoding='UTF-8'>\n",
      "outputs2013_7.txt\n",
      "done - <_io.TextIOWrapper name='/kaggle/input/bitcoin2013/outputs2013_7.txt' mode='r' encoding='UTF-8'>\n",
      "outputs2013_8.txt\n",
      "done - <_io.TextIOWrapper name='/kaggle/input/bitcoin2013/outputs2013_8.txt' mode='r' encoding='UTF-8'>\n",
      "outputs2013_2.txt\n",
      "done - <_io.TextIOWrapper name='/kaggle/input/bitcoin2013/outputs2013_2.txt' mode='r' encoding='UTF-8'>\n",
      "outputs2013_5.txt\n",
      "done - <_io.TextIOWrapper name='/kaggle/input/bitcoin2013/outputs2013_5.txt' mode='r' encoding='UTF-8'>\n",
      "outputs2013_10.txt\n",
      "done - <_io.TextIOWrapper name='/kaggle/input/bitcoin2013/outputs2013_10.txt' mode='r' encoding='UTF-8'>\n",
      "outputs2013_4.txt\n",
      "done - <_io.TextIOWrapper name='/kaggle/input/bitcoin2013/outputs2013_4.txt' mode='r' encoding='UTF-8'>\n",
      "outputs2013_1.txt\n",
      "done - <_io.TextIOWrapper name='/kaggle/input/bitcoin2013/outputs2013_1.txt' mode='r' encoding='UTF-8'>\n",
      "outputs2013_3.txt\n",
      "done - <_io.TextIOWrapper name='/kaggle/input/bitcoin2013/outputs2013_3.txt' mode='r' encoding='UTF-8'>\n",
      "outputs2013_12.txt\n",
      "done - <_io.TextIOWrapper name='/kaggle/input/bitcoin2013/outputs2013_12.txt' mode='r' encoding='UTF-8'>\n",
      "outputs2013_9.txt\n",
      "done - <_io.TextIOWrapper name='/kaggle/input/bitcoin2013/outputs2013_9.txt' mode='r' encoding='UTF-8'>\n",
      "outputs2013_6.txt\n",
      "done - <_io.TextIOWrapper name='/kaggle/input/bitcoin2013/outputs2013_6.txt' mode='r' encoding='UTF-8'>\n",
      "!!!out of loop!!!\n",
      "Memory Consumed by Address mapping = 640.0 MB\n"
     ]
    },
    {
     "data": {
      "text/plain": [
       "0"
      ]
     },
     "execution_count": 3,
     "metadata": {},
     "output_type": "execute_result"
    }
   ],
   "source": [
    "# -*- coding: utf-8 -*-\n",
    "\"\"\"\n",
    "ADDRESS-ID MAPPING CREATION\n",
    "\"\"\"\n",
    "\n",
    "\n",
    "\n",
    "## Creating the mapping\n",
    "## 2. Address- Integer ID mapping\n",
    "\n",
    "list_from_pos2 = []\n",
    "for dirname, _, filenames in os.walk('/kaggle/input'):\n",
    "    for f in filenames:\n",
    "        if(\"outputs\" in f):\n",
    "            print(f)\n",
    "            with open(os.path.join(dirname,f)) as f:\n",
    "                for line in f:\n",
    "                    ## Split the row and append to combined list\n",
    "                    list_from_pos2.append(line.split(\"\\t\")[2::2])\n",
    "            print(\"done - \" + str(f))\n",
    "                \n",
    "                \n",
    "print(\"!!!out of loop!!!\")\n",
    "\n",
    "\n",
    "## flatten the combined list\n",
    "list_addresses = [item for sublist in list_from_pos2 for item in sublist]\n",
    "\n",
    "del list_from_pos2\n",
    "\n",
    "gc.collect()\n",
    "\n",
    "\n",
    "list_addresses = list(set(list_addresses))\n",
    "addr_mapping = dict(zip(list_addresses, range(len(list_addresses))))\n",
    "del list_addresses\n",
    "print(\"Memory Consumed by Address mapping = \"+ str(round(sys.getsizeof(addr_mapping)/(1024*1024), 2)) + \" MB\")\n",
    "gc.collect()\n",
    "\n"
   ]
  },
  {
   "cell_type": "code",
   "execution_count": 4,
   "id": "f62ce978",
   "metadata": {
    "execution": {
     "iopub.execute_input": "2021-11-19T16:53:08.635797Z",
     "iopub.status.busy": "2021-11-19T16:53:08.631657Z",
     "iopub.status.idle": "2021-11-19T16:58:01.208935Z",
     "shell.execute_reply": "2021-11-19T16:58:01.210477Z"
    },
    "papermill": {
     "duration": 292.594073,
     "end_time": "2021-11-19T16:58:01.212905",
     "exception": false,
     "start_time": "2021-11-19T16:53:08.618832",
     "status": "completed"
    },
    "tags": []
   },
   "outputs": [
    {
     "name": "stdout",
     "output_type": "stream",
     "text": [
      "done --  <_io.TextIOWrapper name='/kaggle/input/bitcoin2013/outputs2013_11.txt' mode='r' encoding='utf-8'>\n",
      "done --  <_io.TextIOWrapper name='/kaggle/input/bitcoin2013/outputs2013_7.txt' mode='r' encoding='utf-8'>\n",
      "done --  <_io.TextIOWrapper name='/kaggle/input/bitcoin2013/outputs2013_8.txt' mode='r' encoding='utf-8'>\n",
      "done --  <_io.TextIOWrapper name='/kaggle/input/bitcoin2013/outputs2013_2.txt' mode='r' encoding='utf-8'>\n",
      "done --  <_io.TextIOWrapper name='/kaggle/input/bitcoin2013/outputs2013_5.txt' mode='r' encoding='utf-8'>\n",
      "done --  <_io.TextIOWrapper name='/kaggle/input/bitcoin2013/outputs2013_10.txt' mode='r' encoding='utf-8'>\n",
      "done --  <_io.TextIOWrapper name='/kaggle/input/bitcoin2013/outputs2013_4.txt' mode='r' encoding='utf-8'>\n",
      "done --  <_io.TextIOWrapper name='/kaggle/input/bitcoin2013/outputs2013_1.txt' mode='r' encoding='utf-8'>\n",
      "done --  <_io.TextIOWrapper name='/kaggle/input/bitcoin2013/outputs2013_3.txt' mode='r' encoding='utf-8'>\n",
      "done --  <_io.TextIOWrapper name='/kaggle/input/bitcoin2013/outputs2013_12.txt' mode='r' encoding='utf-8'>\n",
      "done --  <_io.TextIOWrapper name='/kaggle/input/bitcoin2013/outputs2013_9.txt' mode='r' encoding='utf-8'>\n",
      "done --  <_io.TextIOWrapper name='/kaggle/input/bitcoin2013/outputs2013_6.txt' mode='r' encoding='utf-8'>\n",
      "starting to pickle\n",
      "CPU times: user 4min 36s, sys: 16.3 s, total: 4min 52s\n",
      "Wall time: 4min 52s\n"
     ]
    }
   ],
   "source": [
    "%%time\n",
    "## Generation of output mappings\n",
    "\n",
    "## 2. OutputID -> addressID -> amount\n",
    "\n",
    "list_addresses = []\n",
    "mapping_tx_to_op = {}\n",
    "mapping_op = {}\n",
    "mapping_op_time = {}\n",
    "global_index = 0\n",
    "for root, dir, files in os.walk('/kaggle/input'):\n",
    "    for f in files:\n",
    "        if(\"outputs\" in f):\n",
    "            with open(os.path.join(root,f), encoding = \"utf-8\") as f:\n",
    "                for line in f:\n",
    "                    ## Split the row\n",
    "                    cells = line.rstrip().split(\"\\t\")\n",
    "                    # print(cells)\n",
    "                    list_addr_id = list(range(global_index+1, global_index+1+len(cells[2:])//2))\n",
    "                    list_addresses = [addr_mapping[x] for x in cells[2:][::2]]\n",
    "                    list_amounts = cells[3:][::2]\n",
    "                    mapping_delta2 = {x: {y: z} for x, y, z in zip(list_addr_id, list_addresses, list_amounts)}\n",
    "                    mapping_op.update(mapping_delta2)\n",
    "                    \n",
    "                    ## logic to get unix timestamp\n",
    "                    unix_time = np.uint32(cells[0])\n",
    "                    mapping_delta_t = zip(list_addr_id, [unix_time] * len(list_addr_id))\n",
    "                    mapping_op_time.update(mapping_delta_t)\n",
    "                    \n",
    "                    global_index = global_index+1\n",
    "                global_index = global_index+1\n",
    "                print(\"done --  \" + str(f))\n",
    "gc.collect()\n",
    "\n",
    "print(\"starting to pickle\")\n",
    "path = r\"./opID_to_addrAmt.pickle\"\n",
    "with open(path, \"wb\") as f1:\n",
    "    pickle.dump(mapping_op, f1)\n",
    "    \n",
    "path = r\"./opID_to_UnixTime.pickle\"\n",
    "with open(path, \"wb\") as f1:\n",
    "    pickle.dump(mapping_op, f1)\n"
   ]
  },
  {
   "cell_type": "code",
   "execution_count": 5,
   "id": "0741b3f3",
   "metadata": {
    "execution": {
     "iopub.execute_input": "2021-11-19T16:58:01.265485Z",
     "iopub.status.busy": "2021-11-19T16:58:01.263112Z",
     "iopub.status.idle": "2021-11-19T16:58:01.268660Z",
     "shell.execute_reply": "2021-11-19T16:58:01.269438Z"
    },
    "papermill": {
     "duration": 0.036304,
     "end_time": "2021-11-19T16:58:01.269693",
     "exception": false,
     "start_time": "2021-11-19T16:58:01.233389",
     "status": "completed"
    },
    "tags": []
   },
   "outputs": [
    {
     "name": "stdout",
     "output_type": "stream",
     "text": [
      "time consumed = %s sec 396.6658923625946\n"
     ]
    }
   ],
   "source": [
    "print(\"time consumed = %s sec\", time.time() - start)"
   ]
  }
 ],
 "metadata": {
  "kernelspec": {
   "display_name": "Python 3",
   "language": "python",
   "name": "python3"
  },
  "language_info": {
   "codemirror_mode": {
    "name": "ipython",
    "version": 3
   },
   "file_extension": ".py",
   "mimetype": "text/x-python",
   "name": "python",
   "nbconvert_exporter": "python",
   "pygments_lexer": "ipython3",
   "version": "3.7.10"
  },
  "papermill": {
   "default_parameters": {},
   "duration": 409.612551,
   "end_time": "2021-11-19T16:58:04.518916",
   "environment_variables": {},
   "exception": null,
   "input_path": "__notebook__.ipynb",
   "output_path": "__notebook__.ipynb",
   "parameters": {},
   "start_time": "2021-11-19T16:51:14.906365",
   "version": "2.3.3"
  }
 },
 "nbformat": 4,
 "nbformat_minor": 5
}
